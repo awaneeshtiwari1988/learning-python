{
 "cells": [
  {
   "cell_type": "markdown",
   "id": "4af7bdb7",
   "metadata": {},
   "source": [
    "<h1>Computations on Numpy arrays</h1>"
   ]
  },
  {
   "cell_type": "code",
   "execution_count": 1,
   "id": "292293ad",
   "metadata": {},
   "outputs": [],
   "source": [
    "# Looping over arrays to operate on each element\n",
    "import numpy as np\n",
    "np.random.seed(0)"
   ]
  },
  {
   "cell_type": "code",
   "execution_count": 3,
   "id": "0998527a",
   "metadata": {},
   "outputs": [
    {
     "data": {
      "text/plain": [
       "array([0.25      , 0.16666667, 0.33333333, 0.2       , 0.125     ])"
      ]
     },
     "execution_count": 3,
     "metadata": {},
     "output_type": "execute_result"
    }
   ],
   "source": [
    "# Definition of compute reciprocals method\n",
    "def compute_reciprocals(values):\n",
    "    output = np.empty(len(values))\n",
    "    for i in range(len(values)):\n",
    "        output[i] = 1.0/values[i]\n",
    "    return output\n",
    "\n",
    "values = np.random.randint(1,10, size=5)\n",
    "output = compute_reciprocals(values)\n",
    "output"
   ]
  },
  {
   "cell_type": "code",
   "execution_count": 4,
   "id": "bfb0be4e",
   "metadata": {},
   "outputs": [
    {
     "name": "stdout",
     "output_type": "stream",
     "text": [
      "787 ms ± 10.9 ms per loop (mean ± std. dev. of 7 runs, 1 loop each)\n"
     ]
    }
   ],
   "source": [
    "# Use timeit function to time the call to big arrya\n",
    "big_array = np.random.randint(1,100,size=1000000)\n",
    "%timeit compute_reciprocals(big_array)"
   ]
  },
  {
   "cell_type": "markdown",
   "id": "c1e8176b",
   "metadata": {},
   "source": [
    "<h3>Vectorized Operation: Numpy provides statically typed, compute routine known as vectorized operation.</h3>"
   ]
  },
  {
   "cell_type": "code",
   "execution_count": 5,
   "id": "272115a3",
   "metadata": {},
   "outputs": [
    {
     "name": "stdout",
     "output_type": "stream",
     "text": [
      "[0.25       0.16666667 0.33333333 0.2        0.125     ]\n",
      "[0.25       0.16666667 0.33333333 0.2        0.125     ]\n"
     ]
    }
   ],
   "source": [
    "# Vectorized approach is designed to push the loop into the compiled layer that underlies numpy, \n",
    "# leading to much faster execution.\n",
    "print(compute_reciprocals(values))\n",
    "print(1.0/values)"
   ]
  },
  {
   "cell_type": "code",
   "execution_count": 6,
   "id": "26ba5039",
   "metadata": {},
   "outputs": [
    {
     "name": "stdout",
     "output_type": "stream",
     "text": [
      "702 µs ± 6.01 µs per loop (mean ± std. dev. of 7 runs, 1,000 loops each)\n"
     ]
    }
   ],
   "source": [
    "# Timing the operation is suggesting that it completes orders of magnitude faster than python loop\n",
    "%timeit (1.0/big_array)"
   ]
  },
  {
   "cell_type": "code",
   "execution_count": 7,
   "id": "513f8ea8",
   "metadata": {},
   "outputs": [
    {
     "data": {
      "text/plain": [
       "array([0.        , 0.5       , 0.66666667, 0.75      , 0.8       ])"
      ]
     },
     "execution_count": 7,
     "metadata": {},
     "output_type": "execute_result"
    }
   ],
   "source": [
    "# Vectorized operations in NumPy are implemented via ufuncs, whose main purpose is to quickly execute repeated\n",
    "# operations on values in NumPy arrays\n",
    "# Ufuncs are very flexible. \n",
    "np.arange(5)/np.arange(1,6)"
   ]
  },
  {
   "cell_type": "code",
   "execution_count": 8,
   "id": "76d27637",
   "metadata": {},
   "outputs": [
    {
     "data": {
      "text/plain": [
       "array([[  1,   2,   4],\n",
       "       [  8,  16,  32],\n",
       "       [ 64, 128, 256]])"
      ]
     },
     "execution_count": 8,
     "metadata": {},
     "output_type": "execute_result"
    }
   ],
   "source": [
    "# ufunc operations are not limited to one dimensional arrays. They can act on multi-dimensional arrays as well. \n",
    "x = np.arange(9).reshape(3,3)\n",
    "2 ** x"
   ]
  },
  {
   "cell_type": "markdown",
   "id": "08678aa5",
   "metadata": {},
   "source": [
    "<h3> NumPy Ufuncs</h3>"
   ]
  },
  {
   "cell_type": "code",
   "execution_count": 10,
   "id": "4df17cef",
   "metadata": {},
   "outputs": [
    {
     "name": "stdout",
     "output_type": "stream",
     "text": [
      "x     = [0 1 2 3]\n",
      "x + 5 = [5 6 7 8]\n",
      "x - 5 = [-5 -4 -3 -2]\n",
      "x * 2 = [0 2 4 6]\n",
      "x/2   = [0.  0.5 1.  1.5]\n",
      "x//2  = [0 0 1 1]\n"
     ]
    }
   ],
   "source": [
    "# Ufuncs exist in two flavors: unary ufuncs working on single input and binary ufuncs working on two inputs\n",
    "x = np.arange(4)\n",
    "print(\"x     =\",x)\n",
    "print(\"x + 5 =\",x + 5)\n",
    "print(\"x - 5 =\",x - 5)\n",
    "print(\"x * 2 =\",x * 2)\n",
    "print(\"x/2   =\",x/2)\n",
    "print(\"x//2  =\",x//2)"
   ]
  },
  {
   "cell_type": "code",
   "execution_count": 11,
   "id": "7b6bec6e",
   "metadata": {},
   "outputs": [
    {
     "name": "stdout",
     "output_type": "stream",
     "text": [
      "-x.   = [ 0 -1 -2 -3]\n",
      "x ** 2= [0 1 4 9]\n",
      "x %  2= [0 1 0 1]\n"
     ]
    }
   ],
   "source": [
    "# Unary ufunc for negation, a ** exponentiation and a % operator for modulus. \n",
    "print(\"-x.   =\",-x)\n",
    "print(\"x ** 2=\",x**2)\n",
    "print(\"x %  2=\",x%2)"
   ]
  },
  {
   "cell_type": "code",
   "execution_count": 12,
   "id": "b93c8421",
   "metadata": {},
   "outputs": [
    {
     "data": {
      "text/plain": [
       "array([-1.  , -2.25, -4.  , -6.25])"
      ]
     },
     "execution_count": 12,
     "metadata": {},
     "output_type": "execute_result"
    }
   ],
   "source": [
    "# In addition these can be strung together however you wish, and the standard order of operations is maintained. \n",
    "-(0.5 * x + 1) **2"
   ]
  },
  {
   "cell_type": "code",
   "execution_count": 13,
   "id": "faa17c4c",
   "metadata": {},
   "outputs": [
    {
     "data": {
      "text/plain": [
       "array([2, 3, 4, 5])"
      ]
     },
     "execution_count": 13,
     "metadata": {},
     "output_type": "execute_result"
    }
   ],
   "source": [
    "# All of these arithmetic operations are convenient wrappers around specific functions built into NumPy.\n",
    "# + operator is wrapper for add function\n",
    "np.add(x,2)"
   ]
  },
  {
   "cell_type": "code",
   "execution_count": 14,
   "id": "e23f72e3",
   "metadata": {},
   "outputs": [
    {
     "data": {
      "text/plain": [
       "array([-2, -1,  0,  1])"
      ]
     },
     "execution_count": 14,
     "metadata": {},
     "output_type": "execute_result"
    }
   ],
   "source": [
    "# - operator is wrapper for subtract function\n",
    "np.subtract(x,2)"
   ]
  },
  {
   "cell_type": "code",
   "execution_count": 15,
   "id": "3fa08794",
   "metadata": {},
   "outputs": [
    {
     "data": {
      "text/plain": [
       "array([ 0, -1, -2, -3])"
      ]
     },
     "execution_count": 15,
     "metadata": {},
     "output_type": "execute_result"
    }
   ],
   "source": [
    "# Unary negation is wrapper for negative functions\n",
    "np.negative(x)"
   ]
  },
  {
   "cell_type": "code",
   "execution_count": 16,
   "id": "b0f3a473",
   "metadata": {},
   "outputs": [
    {
     "data": {
      "text/plain": [
       "array([0, 2, 4, 6])"
      ]
     },
     "execution_count": 16,
     "metadata": {},
     "output_type": "execute_result"
    }
   ],
   "source": [
    "# * operator is wrapper for multiplication function\n",
    "np.multiply(x,2)"
   ]
  },
  {
   "cell_type": "code",
   "execution_count": 17,
   "id": "3fd76d62",
   "metadata": {},
   "outputs": [
    {
     "data": {
      "text/plain": [
       "array([0. , 0.5, 1. , 1.5])"
      ]
     },
     "execution_count": 17,
     "metadata": {},
     "output_type": "execute_result"
    }
   ],
   "source": [
    "# / operator is wrapper for divide function\n",
    "np.divide(x,2)"
   ]
  },
  {
   "cell_type": "code",
   "execution_count": 18,
   "id": "4f3e1b3f",
   "metadata": {},
   "outputs": [
    {
     "data": {
      "text/plain": [
       "array([0, 0, 1, 1])"
      ]
     },
     "execution_count": 18,
     "metadata": {},
     "output_type": "execute_result"
    }
   ],
   "source": [
    "# // operator is wrapper for floor divide function\n",
    "np.floor_divide(x,2)"
   ]
  },
  {
   "cell_type": "code",
   "execution_count": 19,
   "id": "b8ebaa60",
   "metadata": {},
   "outputs": [
    {
     "data": {
      "text/plain": [
       "array([0, 1, 4, 9])"
      ]
     },
     "execution_count": 19,
     "metadata": {},
     "output_type": "execute_result"
    }
   ],
   "source": [
    "# ** operator is wrapper for exponentiation function\n",
    "np.power(x,2)"
   ]
  },
  {
   "cell_type": "code",
   "execution_count": 20,
   "id": "32a01bd3",
   "metadata": {},
   "outputs": [
    {
     "data": {
      "text/plain": [
       "array([0, 1, 0, 1])"
      ]
     },
     "execution_count": 20,
     "metadata": {},
     "output_type": "execute_result"
    }
   ],
   "source": [
    "# % operaotr is wrapper for modulus function\n",
    "np.mod(x,2)"
   ]
  },
  {
   "cell_type": "markdown",
   "id": "3973cf78",
   "metadata": {},
   "source": [
    "<h4>Absolute Function</h4>"
   ]
  },
  {
   "cell_type": "code",
   "execution_count": 21,
   "id": "b9e1b74a",
   "metadata": {},
   "outputs": [
    {
     "data": {
      "text/plain": [
       "array([2, 1, 0, 1, 2])"
      ]
     },
     "execution_count": 21,
     "metadata": {},
     "output_type": "execute_result"
    }
   ],
   "source": [
    "# Numpy understands Python's built-in absolute vaue function\n",
    "x = np.array([-2,-1,0,1,2])\n",
    "abs(x)"
   ]
  },
  {
   "cell_type": "code",
   "execution_count": 22,
   "id": "0aec09de",
   "metadata": {},
   "outputs": [
    {
     "data": {
      "text/plain": [
       "array([2, 1, 0, 1, 2])"
      ]
     },
     "execution_count": 22,
     "metadata": {},
     "output_type": "execute_result"
    }
   ],
   "source": [
    "# Corresponding Numpy function is as :\n",
    "np.absolute(x)"
   ]
  },
  {
   "cell_type": "code",
   "execution_count": 23,
   "id": "638bdd16",
   "metadata": {},
   "outputs": [
    {
     "data": {
      "text/plain": [
       "array([2, 1, 0, 1, 2])"
      ]
     },
     "execution_count": 23,
     "metadata": {},
     "output_type": "execute_result"
    }
   ],
   "source": [
    "# Same function can also be written using alias as abs\n",
    "np.abs(x)"
   ]
  },
  {
   "cell_type": "code",
   "execution_count": 24,
   "id": "de0555b4",
   "metadata": {},
   "outputs": [
    {
     "data": {
      "text/plain": [
       "array([5., 5., 2., 1.])"
      ]
     },
     "execution_count": 24,
     "metadata": {},
     "output_type": "execute_result"
    }
   ],
   "source": [
    "# Ufunc can handle complex data as well, in which absolute value returns the magnitude\n",
    "x = np.array([3 - 4j, 4 - 3j, 2 + 0j, 0 + 1j])\n",
    "np.abs(x)"
   ]
  },
  {
   "cell_type": "markdown",
   "id": "7f2c5d0e",
   "metadata": {},
   "source": [
    "<h4>Trignometric Functions</h4>"
   ]
  },
  {
   "cell_type": "code",
   "execution_count": 25,
   "id": "6ce96ae5",
   "metadata": {},
   "outputs": [
    {
     "name": "stdout",
     "output_type": "stream",
     "text": [
      "Theta is  [0.         1.57079633 3.14159265]\n",
      "sin(theta) [0.0000000e+00 1.0000000e+00 1.2246468e-16]\n",
      "cos(theta) [ 1.000000e+00  6.123234e-17 -1.000000e+00]\n",
      "tan(theta) [ 0.00000000e+00  1.63312394e+16 -1.22464680e-16]\n"
     ]
    }
   ],
   "source": [
    "# Define an array of angles\n",
    "theta = np.linspace(0, np.pi, 3)\n",
    "print(\"Theta is \", theta)\n",
    "\n",
    "# Compute trignometric functions on these values\n",
    "print(\"sin(theta)\", np.sin(theta))\n",
    "print(\"cos(theta)\", np.cos(theta))\n",
    "print(\"tan(theta)\", np.tan(theta))"
   ]
  },
  {
   "cell_type": "code",
   "execution_count": 26,
   "id": "8b992609",
   "metadata": {},
   "outputs": [
    {
     "name": "stdout",
     "output_type": "stream",
     "text": [
      "x   =  [-1, 0, 1]\n",
      "arcsin(x) [-1.57079633  0.          1.57079633]\n",
      "arccos(x) [3.14159265 1.57079633 0.        ]\n",
      "arctan(x) [-0.78539816  0.          0.78539816]\n"
     ]
    }
   ],
   "source": [
    "# Inverse trignometric functions are also available\n",
    "x = [-1, 0, 1]\n",
    "\n",
    "print(\"x   = \", x)\n",
    "print(\"arcsin(x)\", np.arcsin(x))\n",
    "print(\"arccos(x)\", np.arccos(x))\n",
    "print(\"arctan(x)\", np.arctan(x))"
   ]
  },
  {
   "cell_type": "markdown",
   "id": "c8d2436d",
   "metadata": {},
   "source": [
    "<h4>Exponents and logarithms </h4>"
   ]
  },
  {
   "cell_type": "code",
   "execution_count": 27,
   "id": "c2fe6ea4",
   "metadata": {},
   "outputs": [
    {
     "name": "stdout",
     "output_type": "stream",
     "text": [
      "x  = [1, 2, 3]\n",
      "e^x  = [ 2.71828183  7.3890561  20.08553692]\n",
      "2^x  = [2. 4. 8.]\n",
      "3^x  = [ 3  9 27]\n"
     ]
    }
   ],
   "source": [
    "# Exponentials\n",
    "x = [1,2,3]\n",
    "\n",
    "print(\"x  =\",x)\n",
    "print(\"e^x  =\",np.exp(x))\n",
    "print(\"2^x  =\",np.exp2(x))\n",
    "print(\"3^x  =\",np.power(3,x))"
   ]
  },
  {
   "cell_type": "code",
   "execution_count": 28,
   "id": "8a04524c",
   "metadata": {},
   "outputs": [
    {
     "name": "stdout",
     "output_type": "stream",
     "text": [
      "x  = [1, 2, 4, 10]\n",
      "ln(x)  = [0.         0.69314718 1.38629436 2.30258509]\n",
      "log2(x)  = [0.         1.         2.         3.32192809]\n",
      "log10(x)  = [0.         0.30103    0.60205999 1.        ]\n"
     ]
    }
   ],
   "source": [
    "# Inverse of exponentials that is logarithm are also available\n",
    "\n",
    "x = [1,2,4,10]\n",
    "print(\"x  =\",x)\n",
    "print(\"ln(x)  =\",np.log(x))\n",
    "print(\"log2(x)  =\",np.log2(x))\n",
    "print(\"log10(x)  =\",np.log10(x))"
   ]
  },
  {
   "cell_type": "code",
   "execution_count": 30,
   "id": "915629dd",
   "metadata": {},
   "outputs": [
    {
     "name": "stdout",
     "output_type": "stream",
     "text": [
      "Exponential of x - 1= [0.         0.0010005  0.01005017 0.10517092]\n",
      "log(1+x) =  [0.         0.0009995  0.00995033 0.09531018]\n"
     ]
    }
   ],
   "source": [
    "# Specialized versions that are useful for maintaining precision with very small input\n",
    "x = [0, 0.001, 0.01, 0.1]\n",
    "\n",
    "print(\"Exponential of x - 1=\", np.expm1(x))\n",
    "print(\"log(1+x) = \", np.log1p(x))\n",
    "\n",
    "# When x is very small these functions give more precise values than if the raw np.log or np.exp were used. "
   ]
  },
  {
   "cell_type": "markdown",
   "id": "026ada71",
   "metadata": {},
   "source": [
    "<h4>Specialized Ufuncs</h4>"
   ]
  },
  {
   "cell_type": "code",
   "execution_count": 31,
   "id": "d35708e0",
   "metadata": {},
   "outputs": [],
   "source": [
    "# If you compute some obscure mathematical function on your data it is implmented in scipy.special. \n",
    "# Importing of this is done as follows\n",
    "from scipy import special"
   ]
  },
  {
   "cell_type": "code",
   "execution_count": 32,
   "id": "1312833f",
   "metadata": {},
   "outputs": [
    {
     "name": "stdout",
     "output_type": "stream",
     "text": [
      "gamma of x =  [1.0000e+00 2.4000e+01 3.6288e+05]\n",
      "ln|gamma(x) =  [ 0.          3.17805383 12.80182748]\n",
      "beta(x,2) =  [0.5        0.03333333 0.00909091]\n"
     ]
    }
   ],
   "source": [
    "# Gamma Functions generalized factorials and related functions\n",
    "x = [1,5,10]\n",
    "\n",
    "print(\"gamma of x = \",special.gamma(x))\n",
    "print(\"ln|gamma(x) = \", special.gammaln(x))\n",
    "print(\"beta(x,2) = \", special.beta(x,2))"
   ]
  },
  {
   "cell_type": "code",
   "execution_count": 33,
   "id": "175e99b0",
   "metadata": {},
   "outputs": [
    {
     "name": "stdout",
     "output_type": "stream",
     "text": [
      "erf(x) = [0.         0.32862676 0.67780119 0.84270079]\n",
      "erfc(x) = [1.         0.67137324 0.32219881 0.15729921]\n",
      "erfinv(x) = [0.         0.27246271 0.73286908        inf]\n"
     ]
    }
   ],
   "source": [
    "# Error function (integral of gaussian) its complement and ints inverse\n",
    "x = np.array([0, 0.3, 0.7, 1.0])\n",
    "\n",
    "print(\"erf(x) =\",special.erf(x))\n",
    "print(\"erfc(x) =\", special.erfc(x))\n",
    "print(\"erfinv(x) =\", special.erfinv(x))"
   ]
  },
  {
   "cell_type": "markdown",
   "id": "95052e3f",
   "metadata": {},
   "source": [
    "<h3>Advanced Ufunc features </h3>"
   ]
  },
  {
   "cell_type": "code",
   "execution_count": 34,
   "id": "047a0911",
   "metadata": {},
   "outputs": [
    {
     "name": "stdout",
     "output_type": "stream",
     "text": [
      "[ 0. 10. 20. 30. 40.]\n"
     ]
    }
   ],
   "source": [
    "# Specifying output - For large calculations it is useful to be ablet to specify the array where the result of\n",
    "# the function can be stored. \n",
    "\n",
    "# Rather than creating temporary array, you can use this to write computation results to the memory location \n",
    "# where you would like them to be. \n",
    "\n",
    "# For all ufuncs this can be done using the out argument of the function:\n",
    "x = np.arange(5)\n",
    "y = np.empty(5)\n",
    "np.multiply(x,10, out=y)\n",
    "print(y)"
   ]
  },
  {
   "cell_type": "code",
   "execution_count": 36,
   "id": "d8e6174d",
   "metadata": {},
   "outputs": [
    {
     "name": "stdout",
     "output_type": "stream",
     "text": [
      "[ 1.  0.  2.  0.  4.  0.  8.  0. 16.  0.]\n"
     ]
    }
   ],
   "source": [
    "# This can be used with array views. For example, we can write the results of a computation to every other element \n",
    "# of a specified array. \n",
    "\n",
    "y = np.zeros(10)\n",
    "np.power(2,x,out=y[::2])\n",
    "print(y)"
   ]
  },
  {
   "cell_type": "markdown",
   "id": "131e2db2",
   "metadata": {},
   "source": [
    "<h4>Aggregates</h4>"
   ]
  },
  {
   "cell_type": "code",
   "execution_count": 37,
   "id": "f6a776d4",
   "metadata": {},
   "outputs": [
    {
     "name": "stdout",
     "output_type": "stream",
     "text": [
      "[1 2 3 4 5]\n",
      "15\n"
     ]
    }
   ],
   "source": [
    "# A reduce repeatedly applies a given operation to the elements of the array until only a single result remains. \n",
    "x = np.arange(1,6)\n",
    "print(x)\n",
    "print(np.add.reduce(x))"
   ]
  },
  {
   "cell_type": "code",
   "execution_count": 39,
   "id": "a7a01c97",
   "metadata": {},
   "outputs": [
    {
     "name": "stdout",
     "output_type": "stream",
     "text": [
      "120\n"
     ]
    }
   ],
   "source": [
    "# Reduce function on the product of all array \n",
    "print(np.multiply.reduce(x))"
   ]
  },
  {
   "cell_type": "code",
   "execution_count": 40,
   "id": "69884603",
   "metadata": {},
   "outputs": [
    {
     "data": {
      "text/plain": [
       "array([ 1,  3,  6, 10, 15])"
      ]
     },
     "execution_count": 40,
     "metadata": {},
     "output_type": "execute_result"
    }
   ],
   "source": [
    "# store all intermediate results of the computation\n",
    "np.add.accumulate(x)"
   ]
  },
  {
   "cell_type": "code",
   "execution_count": 41,
   "id": "1c2f88ef",
   "metadata": {},
   "outputs": [
    {
     "data": {
      "text/plain": [
       "array([  1,   2,   6,  24, 120])"
      ]
     },
     "execution_count": 41,
     "metadata": {},
     "output_type": "execute_result"
    }
   ],
   "source": [
    "# store all intermediate results of the computation of multiplication\n",
    "np.multiply.accumulate(x)"
   ]
  },
  {
   "cell_type": "markdown",
   "id": "8b5cf7f9",
   "metadata": {},
   "source": [
    "<h4>Outer Products</h4>"
   ]
  },
  {
   "cell_type": "code",
   "execution_count": 42,
   "id": "eac3919f",
   "metadata": {},
   "outputs": [
    {
     "data": {
      "text/plain": [
       "array([[ 1,  2,  3,  4,  5],\n",
       "       [ 2,  4,  6,  8, 10],\n",
       "       [ 3,  6,  9, 12, 15],\n",
       "       [ 4,  8, 12, 16, 20],\n",
       "       [ 5, 10, 15, 20, 25]])"
      ]
     },
     "execution_count": 42,
     "metadata": {},
     "output_type": "execute_result"
    }
   ],
   "source": [
    "# Any ufunc can compute the output of all pairs of two different inputs using the outer method\n",
    "x = np.arange(1,6)\n",
    "np.multiply.outer(x,x)\n",
    "\n",
    "# Broadcasting - Ability to operate between arrays of different shapes and sizes."
   ]
  },
  {
   "cell_type": "code",
   "execution_count": 43,
   "id": "b2e8a782",
   "metadata": {},
   "outputs": [
    {
     "name": "stdout",
     "output_type": "stream",
     "text": [
      "Help on built-in function arange in module numpy:\n",
      "\n",
      "arange(...)\n",
      "    arange([start,] stop[, step,], dtype=None, *, like=None)\n",
      "    \n",
      "    Return evenly spaced values within a given interval.\n",
      "    \n",
      "    ``arange`` can be called with a varying number of positional arguments:\n",
      "    \n",
      "    * ``arange(stop)``: Values are generated within the half-open interval\n",
      "      ``[0, stop)`` (in other words, the interval including `start` but\n",
      "      excluding `stop`).\n",
      "    * ``arange(start, stop)``: Values are generated within the half-open\n",
      "      interval ``[start, stop)``.\n",
      "    * ``arange(start, stop, step)`` Values are generated within the half-open\n",
      "      interval ``[start, stop)``, with spacing between values given by\n",
      "      ``step``.\n",
      "    \n",
      "    For integer arguments the function is roughly equivalent to the Python\n",
      "    built-in :py:class:`range`, but returns an ndarray rather than a ``range``\n",
      "    instance.\n",
      "    \n",
      "    When using a non-integer step, such as 0.1, it is often better to use\n",
      "    `numpy.linspace`.\n",
      "    \n",
      "    See the Warning sections below for more information.\n",
      "    \n",
      "    Parameters\n",
      "    ----------\n",
      "    start : integer or real, optional\n",
      "        Start of interval.  The interval includes this value.  The default\n",
      "        start value is 0.\n",
      "    stop : integer or real\n",
      "        End of interval.  The interval does not include this value, except\n",
      "        in some cases where `step` is not an integer and floating point\n",
      "        round-off affects the length of `out`.\n",
      "    step : integer or real, optional\n",
      "        Spacing between values.  For any output `out`, this is the distance\n",
      "        between two adjacent values, ``out[i+1] - out[i]``.  The default\n",
      "        step size is 1.  If `step` is specified as a position argument,\n",
      "        `start` must also be given.\n",
      "    dtype : dtype, optional\n",
      "        The type of the output array.  If `dtype` is not given, infer the data\n",
      "        type from the other input arguments.\n",
      "    like : array_like, optional\n",
      "        Reference object to allow the creation of arrays which are not\n",
      "        NumPy arrays. If an array-like passed in as ``like`` supports\n",
      "        the ``__array_function__`` protocol, the result will be defined\n",
      "        by it. In this case, it ensures the creation of an array object\n",
      "        compatible with that passed in via this argument.\n",
      "    \n",
      "        .. versionadded:: 1.20.0\n",
      "    \n",
      "    Returns\n",
      "    -------\n",
      "    arange : ndarray\n",
      "        Array of evenly spaced values.\n",
      "    \n",
      "        For floating point arguments, the length of the result is\n",
      "        ``ceil((stop - start)/step)``.  Because of floating point overflow,\n",
      "        this rule may result in the last element of `out` being greater\n",
      "        than `stop`.\n",
      "    \n",
      "    Warnings\n",
      "    --------\n",
      "    The length of the output might not be numerically stable.\n",
      "    \n",
      "    Another stability issue is due to the internal implementation of\n",
      "    `numpy.arange`.\n",
      "    The actual step value used to populate the array is\n",
      "    ``dtype(start + step) - dtype(start)`` and not `step`. Precision loss\n",
      "    can occur here, due to casting or due to using floating points when\n",
      "    `start` is much larger than `step`. This can lead to unexpected\n",
      "    behaviour. For example::\n",
      "    \n",
      "      >>> np.arange(0, 5, 0.5, dtype=int)\n",
      "      array([0, 0, 0, 0, 0, 0, 0, 0, 0, 0])\n",
      "      >>> np.arange(-3, 3, 0.5, dtype=int)\n",
      "      array([-3, -2, -1,  0,  1,  2,  3,  4,  5,  6,  7,  8])\n",
      "    \n",
      "    In such cases, the use of `numpy.linspace` should be preferred.\n",
      "    \n",
      "    The built-in :py:class:`range` generates :std:doc:`Python built-in integers\n",
      "    that have arbitrary size <c-api/long>`, while `numpy.arange` produces\n",
      "    `numpy.int32` or `numpy.int64` numbers. This may result in incorrect\n",
      "    results for large integer values::\n",
      "    \n",
      "      >>> power = 40\n",
      "      >>> modulo = 10000\n",
      "      >>> x1 = [(n ** power) % modulo for n in range(8)]\n",
      "      >>> x2 = [(n ** power) % modulo for n in np.arange(8)]\n",
      "      >>> print(x1)\n",
      "      [0, 1, 7776, 8801, 6176, 625, 6576, 4001]  # correct\n",
      "      >>> print(x2)\n",
      "      [0, 1, 7776, 7185, 0, 5969, 4816, 3361]  # incorrect\n",
      "    \n",
      "    See Also\n",
      "    --------\n",
      "    numpy.linspace : Evenly spaced numbers with careful handling of endpoints.\n",
      "    numpy.ogrid: Arrays of evenly spaced numbers in N-dimensions.\n",
      "    numpy.mgrid: Grid-shaped arrays of evenly spaced numbers in N-dimensions.\n",
      "    \n",
      "    Examples\n",
      "    --------\n",
      "    >>> np.arange(3)\n",
      "    array([0, 1, 2])\n",
      "    >>> np.arange(3.0)\n",
      "    array([ 0.,  1.,  2.])\n",
      "    >>> np.arange(3,7)\n",
      "    array([3, 4, 5, 6])\n",
      "    >>> np.arange(3,7,2)\n",
      "    array([3, 5])\n",
      "\n"
     ]
    }
   ],
   "source": [
    "# Generate documentation and gain all the information about a package and its methods.\n",
    "help(np.arange)"
   ]
  },
  {
   "cell_type": "code",
   "execution_count": null,
   "id": "00d6eaec",
   "metadata": {},
   "outputs": [],
   "source": []
  }
 ],
 "metadata": {
  "kernelspec": {
   "display_name": "Python 3 (ipykernel)",
   "language": "python",
   "name": "python3"
  },
  "language_info": {
   "codemirror_mode": {
    "name": "ipython",
    "version": 3
   },
   "file_extension": ".py",
   "mimetype": "text/x-python",
   "name": "python",
   "nbconvert_exporter": "python",
   "pygments_lexer": "ipython3",
   "version": "3.10.9"
  }
 },
 "nbformat": 4,
 "nbformat_minor": 5
}
