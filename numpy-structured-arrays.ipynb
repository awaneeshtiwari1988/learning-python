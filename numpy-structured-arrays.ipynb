{
 "cells": [
  {
   "cell_type": "markdown",
   "id": "47d36c28",
   "metadata": {},
   "source": [
    "<h1>Numpy Structured Arrays</h1>"
   ]
  },
  {
   "cell_type": "code",
   "execution_count": 1,
   "id": "964c045d",
   "metadata": {},
   "outputs": [],
   "source": [
    "# Numpy's structured arrays and record arrays provide efficient storage for compound, heterogenous data. \n",
    "import numpy as np"
   ]
  },
  {
   "cell_type": "code",
   "execution_count": 2,
   "id": "64b97215",
   "metadata": {},
   "outputs": [],
   "source": [
    "# Three different categories of data on number of people say age, name and weight\n",
    "name = [\"Alice\", \"Bob\", \"Cathy\", \"Doug\"]\n",
    "age = [25,45,37,19]\n",
    "weight = [55.0, 85.5, 68.0, 61.5]\n",
    "\n",
    "# These three arrays are related but can not be identified. "
   ]
  },
  {
   "cell_type": "code",
   "execution_count": 3,
   "id": "fa68dbea",
   "metadata": {},
   "outputs": [],
   "source": [
    "# Numpy can handle this through structured arrays which are arrays with compound data types:\n",
    "x = np.zeros(4, dtype=int)"
   ]
  },
  {
   "cell_type": "code",
   "execution_count": 5,
   "id": "75bfcccb",
   "metadata": {},
   "outputs": [
    {
     "name": "stdout",
     "output_type": "stream",
     "text": [
      "[('name', '<U10'), ('age', '<i4'), ('weight', '<f8')]\n"
     ]
    }
   ],
   "source": [
    "# Structured Array using a compound data type specification can be created as:\n",
    "data = np.zeros(4, dtype={\"names\":(\"name\",\"age\",\"weight\"),\n",
    "                          \"formats\":(\"U10\",\"i4\",\"f8\")})\n",
    "print(data.dtype)"
   ]
  },
  {
   "cell_type": "code",
   "execution_count": 6,
   "id": "1ee414be",
   "metadata": {},
   "outputs": [
    {
     "name": "stdout",
     "output_type": "stream",
     "text": [
      "[('Alice', 25, 55. ) ('Bob', 45, 85.5) ('Cathy', 37, 68. )\n",
      " ('Doug', 19, 61.5)]\n"
     ]
    }
   ],
   "source": [
    "# Fill the array with values\n",
    "data[\"name\"] = name\n",
    "data[\"age\"] = age\n",
    "data[\"weight\"] = weight\n",
    "print(data)"
   ]
  },
  {
   "cell_type": "code",
   "execution_count": 7,
   "id": "677e0fa0",
   "metadata": {},
   "outputs": [
    {
     "data": {
      "text/plain": [
       "array(['Alice', 'Bob', 'Cathy', 'Doug'], dtype='<U10')"
      ]
     },
     "execution_count": 7,
     "metadata": {},
     "output_type": "execute_result"
    }
   ],
   "source": [
    "# Get All names\n",
    "data[\"name\"]"
   ]
  },
  {
   "cell_type": "code",
   "execution_count": 8,
   "id": "77ff9e62",
   "metadata": {},
   "outputs": [
    {
     "data": {
      "text/plain": [
       "('Alice', 25, 55.)"
      ]
     },
     "execution_count": 8,
     "metadata": {},
     "output_type": "execute_result"
    }
   ],
   "source": [
    "# Get First row of data\n",
    "data[0]"
   ]
  },
  {
   "cell_type": "code",
   "execution_count": 9,
   "id": "471db216",
   "metadata": {},
   "outputs": [
    {
     "data": {
      "text/plain": [
       "'Doug'"
      ]
     },
     "execution_count": 9,
     "metadata": {},
     "output_type": "execute_result"
    }
   ],
   "source": [
    "# Get the name from the last row\n",
    "data[-1][\"name\"]"
   ]
  },
  {
   "cell_type": "code",
   "execution_count": 10,
   "id": "a6aca83d",
   "metadata": {},
   "outputs": [
    {
     "data": {
      "text/plain": [
       "array(['Alice', 'Doug'], dtype='<U10')"
      ]
     },
     "execution_count": 10,
     "metadata": {},
     "output_type": "execute_result"
    }
   ],
   "source": [
    "# Using Boolean masking this even allows to do more sophisticated operations such as filtering on age:\n",
    "# Get names where age is under 30\n",
    "data[data[\"age\"] < 30][\"name\"]"
   ]
  },
  {
   "cell_type": "markdown",
   "id": "1bb2a668",
   "metadata": {},
   "source": [
    "<h3>Creating Structured Arrays</h3>"
   ]
  },
  {
   "cell_type": "code",
   "execution_count": 11,
   "id": "66bfa175",
   "metadata": {},
   "outputs": [
    {
     "data": {
      "text/plain": [
       "dtype([('name', '<U10'), ('age', '<i4'), ('weight', '<f8')])"
      ]
     },
     "execution_count": 11,
     "metadata": {},
     "output_type": "execute_result"
    }
   ],
   "source": [
    "# Using dtype - dictionary type\n",
    "np.dtype({\"names\":(\"name\",\"age\",\"weight\"),\n",
    "          \"formats\":(\"U10\",\"i4\",\"f8\")})"
   ]
  },
  {
   "cell_type": "code",
   "execution_count": 12,
   "id": "fb168f13",
   "metadata": {},
   "outputs": [
    {
     "data": {
      "text/plain": [
       "dtype([('name', '<U10'), ('age', '<i8'), ('weight', '<f4')])"
      ]
     },
     "execution_count": 12,
     "metadata": {},
     "output_type": "execute_result"
    }
   ],
   "source": [
    "# Numerical types can be specified with Python types or NumPy dtypes as:\n",
    "np.dtype({\"names\":(\"name\",\"age\",\"weight\"),\n",
    "          \"formats\":((np.str_,10),int,np.float32)})"
   ]
  },
  {
   "cell_type": "code",
   "execution_count": 13,
   "id": "ebf5807a",
   "metadata": {},
   "outputs": [
    {
     "data": {
      "text/plain": [
       "dtype([('name', '<U10'), ('age', '<i4'), ('weight', '<f8')])"
      ]
     },
     "execution_count": 13,
     "metadata": {},
     "output_type": "execute_result"
    }
   ],
   "source": [
    "# A compound type can also be specified as list of tuples\n",
    "np.dtype([(\"name\",\"U10\"),(\"age\",\"i4\"),(\"weight\",\"f8\")])"
   ]
  },
  {
   "cell_type": "code",
   "execution_count": 14,
   "id": "e5643c86",
   "metadata": {},
   "outputs": [
    {
     "data": {
      "text/plain": [
       "dtype([('f0', 'S10'), ('f1', '<i4'), ('f2', '<f8')])"
      ]
     },
     "execution_count": 14,
     "metadata": {},
     "output_type": "execute_result"
    }
   ],
   "source": [
    "# If the names of the type do not matter to you, you can specify the types alone in a comma-separated string\n",
    "np.dtype(\"S10,i4,f8\")"
   ]
  },
  {
   "cell_type": "code",
   "execution_count": 15,
   "id": "aac1642a",
   "metadata": {},
   "outputs": [
    {
     "name": "stdout",
     "output_type": "stream",
     "text": [
      "(0, [[0., 0., 0.], [0., 0., 0.], [0., 0., 0.]])\n",
      "[[0. 0. 0.]\n",
      " [0. 0. 0.]\n",
      " [0. 0. 0.]]\n"
     ]
    }
   ],
   "source": [
    "# Create a 3x3 floating point matrix\n",
    "tp = np.dtype([(\"id\",\"i8\"),(\"mat\",\"f8\",(3,3))])\n",
    "X = np.zeros(1, dtype=tp)\n",
    "print(X[0])\n",
    "print(X[\"mat\"][0])"
   ]
  },
  {
   "cell_type": "code",
   "execution_count": 16,
   "id": "c7e4c31f",
   "metadata": {},
   "outputs": [
    {
     "data": {
      "text/plain": [
       "array([25, 45, 37, 19], dtype=int32)"
      ]
     },
     "execution_count": 16,
     "metadata": {},
     "output_type": "execute_result"
    }
   ],
   "source": [
    "# In record arrays fields can be accessed as attributes rather than as dictionary keys\n",
    "data[\"age\"]"
   ]
  },
  {
   "cell_type": "code",
   "execution_count": 17,
   "id": "e6a8804b",
   "metadata": {},
   "outputs": [
    {
     "data": {
      "text/plain": [
       "array([25, 45, 37, 19], dtype=int32)"
      ]
     },
     "execution_count": 17,
     "metadata": {},
     "output_type": "execute_result"
    }
   ],
   "source": [
    "data_rec = data.view(np.recarray)\n",
    "data_rec.age"
   ]
  },
  {
   "cell_type": "code",
   "execution_count": 18,
   "id": "4c1baf4e",
   "metadata": {},
   "outputs": [
    {
     "name": "stdout",
     "output_type": "stream",
     "text": [
      "55.9 ns ± 0.602 ns per loop (mean ± std. dev. of 7 runs, 10,000,000 loops each)\n",
      "816 ns ± 30.5 ns per loop (mean ± std. dev. of 7 runs, 1,000,000 loops each)\n",
      "1.35 µs ± 69.6 ns per loop (mean ± std. dev. of 7 runs, 1,000,000 loops each)\n"
     ]
    }
   ],
   "source": [
    "%timeit data[\"age\"]\n",
    "%timeit data_rec[\"age\"]\n",
    "%timeit data_rec.age"
   ]
  }
 ],
 "metadata": {
  "kernelspec": {
   "display_name": "Python 3 (ipykernel)",
   "language": "python",
   "name": "python3"
  },
  "language_info": {
   "codemirror_mode": {
    "name": "ipython",
    "version": 3
   },
   "file_extension": ".py",
   "mimetype": "text/x-python",
   "name": "python",
   "nbconvert_exporter": "python",
   "pygments_lexer": "ipython3",
   "version": "3.10.9"
  }
 },
 "nbformat": 4,
 "nbformat_minor": 5
}
