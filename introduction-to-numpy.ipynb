{
 "cells": [
  {
   "cell_type": "markdown",
   "id": "ab79c59d",
   "metadata": {},
   "source": [
    "<h1>Introduction to NumPy</h1>"
   ]
  },
  {
   "cell_type": "markdown",
   "id": "9b937aea",
   "metadata": {},
   "source": [
    "<h4>NumPy - short for Numerical Python - Provides an efficient interface to store and operate on dense data buffers.</h4>"
   ]
  },
  {
   "cell_type": "code",
   "execution_count": 2,
   "id": "cae3a435",
   "metadata": {},
   "outputs": [
    {
     "data": {
      "text/plain": [
       "'1.23.5'"
      ]
     },
     "execution_count": 2,
     "metadata": {},
     "output_type": "execute_result"
    }
   ],
   "source": [
    "# Import numpy and check version\n",
    "# Using as is the mechanism to alias the import.\n",
    "import numpy as np\n",
    "np.__version__"
   ]
  },
  {
   "cell_type": "code",
   "execution_count": 5,
   "id": "e68b7860",
   "metadata": {},
   "outputs": [
    {
     "data": {
      "text/plain": [
       "<ufunc 'absolute'>"
      ]
     },
     "execution_count": 5,
     "metadata": {},
     "output_type": "execute_result"
    }
   ],
   "source": [
    "# All the contents of the numpy namespace can be obtained by using dot operator with tab key\n",
    "np.abs"
   ]
  },
  {
   "cell_type": "code",
   "execution_count": 6,
   "id": "10c95062",
   "metadata": {},
   "outputs": [],
   "source": [
    "# To diplay numpy's built in documentation\n",
    "np?"
   ]
  },
  {
   "cell_type": "code",
   "execution_count": 7,
   "id": "926c1228",
   "metadata": {},
   "outputs": [
    {
     "name": "stdout",
     "output_type": "stream",
     "text": [
      "four\n"
     ]
    }
   ],
   "source": [
    "# Python provides dynamic typing - thus allowing skipping of declaration of each variable\n",
    "result = 0\n",
    "for i in range(100):\n",
    "    result += i\n",
    "    \n",
    "# This leads in python to assign any kind of data to any kind of variable \n",
    "x = 4\n",
    "x = \"four\"\n",
    "print(x)"
   ]
  },
  {
   "cell_type": "code",
   "execution_count": 11,
   "id": "35c6f145",
   "metadata": {},
   "outputs": [],
   "source": [
    "# A standard python implementation is written in C\n",
    "# A python integer is a pointer to a position in memory containing all the Python objetc information, \n",
    "# including the bytes that contain the integer value. This extra information in the python integer structures\n",
    "# is what allows python to be coded so freely and dynamically. \n",
    "int??"
   ]
  },
  {
   "cell_type": "markdown",
   "id": "1f2be27c",
   "metadata": {},
   "source": [
    "<h1>Python List</h1>"
   ]
  },
  {
   "cell_type": "code",
   "execution_count": 13,
   "id": "b7784d74",
   "metadata": {},
   "outputs": [
    {
     "name": "stdout",
     "output_type": "stream",
     "text": [
      "[0, 1, 2, 3, 4, 5, 6, 7, 8, 9]\n"
     ]
    }
   ],
   "source": [
    "L = list(range(10))\n",
    "print(L)"
   ]
  },
  {
   "cell_type": "code",
   "execution_count": 14,
   "id": "48a45947",
   "metadata": {},
   "outputs": [
    {
     "name": "stdout",
     "output_type": "stream",
     "text": [
      "<class 'list'>\n"
     ]
    }
   ],
   "source": [
    "# type function to get the type of list\n",
    "print(type(L))"
   ]
  },
  {
   "cell_type": "code",
   "execution_count": 15,
   "id": "e682226f",
   "metadata": {},
   "outputs": [
    {
     "name": "stdout",
     "output_type": "stream",
     "text": [
      "<class 'int'>\n"
     ]
    }
   ],
   "source": [
    "# type function to get the type of list element\n",
    "print(type(L[0]))"
   ]
  },
  {
   "cell_type": "code",
   "execution_count": 16,
   "id": "8faf6463",
   "metadata": {},
   "outputs": [
    {
     "name": "stdout",
     "output_type": "stream",
     "text": [
      "['0', '1', '2', '3', '4', '5', '6', '7', '8', '9']\n"
     ]
    }
   ],
   "source": [
    "# A list of strings\n",
    "L2 = [str(c) for c in L]\n",
    "print(L2)"
   ]
  },
  {
   "cell_type": "code",
   "execution_count": 17,
   "id": "d3a1adff",
   "metadata": {},
   "outputs": [
    {
     "name": "stdout",
     "output_type": "stream",
     "text": [
      "<class 'list'>\n",
      "<class 'str'>\n"
     ]
    }
   ],
   "source": [
    "# Using type function to get the type of List and type of element in List\n",
    "print(type(L2))\n",
    "print(type(L2[0]))"
   ]
  },
  {
   "cell_type": "code",
   "execution_count": 18,
   "id": "f4704395",
   "metadata": {},
   "outputs": [
    {
     "name": "stdout",
     "output_type": "stream",
     "text": [
      "[True, '2', 3.0, 4]\n"
     ]
    }
   ],
   "source": [
    "# As python is dynamically typed language, lists can be heterogeneous\n",
    "# To allow these flexible types each item in the list must contain its own type info\n",
    "# reference count and other information. That is each item is a complete Python Object.\n",
    "L3 = [True, \"2\",3.0,4]\n",
    "print(L3)"
   ]
  },
  {
   "cell_type": "code",
   "execution_count": 19,
   "id": "21bac8dc",
   "metadata": {},
   "outputs": [
    {
     "data": {
      "text/plain": [
       "[bool, str, float, int]"
      ]
     },
     "execution_count": 19,
     "metadata": {},
     "output_type": "execute_result"
    }
   ],
   "source": [
    "# Use type function to get the type of each element in the list l3\n",
    "[type(item) for item in L3]"
   ]
  },
  {
   "cell_type": "markdown",
   "id": "a2839e90",
   "metadata": {},
   "source": [
    "<h1>Fixed type arrays in Python</h1>"
   ]
  },
  {
   "cell_type": "code",
   "execution_count": 22,
   "id": "f7ca39f0",
   "metadata": {},
   "outputs": [
    {
     "name": "stdout",
     "output_type": "stream",
     "text": [
      "array('i', [0, 1, 2, 3, 4, 5, 6, 7, 8, 9])\n"
     ]
    }
   ],
   "source": [
    "# The built in array module can be used to create dense arrays of a uniform type\n",
    "import array\n",
    "L = list(range(10))\n",
    "A = array.array('i',L)  # i is type code indicating the elements are integers\n",
    "print(A)"
   ]
  },
  {
   "cell_type": "markdown",
   "id": "0e6be225",
   "metadata": {},
   "source": [
    "<h1>Ways of creating Numpy Array</h1>"
   ]
  },
  {
   "cell_type": "code",
   "execution_count": 23,
   "id": "f8875d2d",
   "metadata": {},
   "outputs": [],
   "source": [
    "import numpy as np"
   ]
  },
  {
   "cell_type": "markdown",
   "id": "40fbd289",
   "metadata": {},
   "source": [
    "<h3>Creating Arrays from Python Lists</h3>"
   ]
  },
  {
   "cell_type": "code",
   "execution_count": 27,
   "id": "f4f93a60",
   "metadata": {},
   "outputs": [
    {
     "data": {
      "text/plain": [
       "array([1, 2, 3, 4, 5])"
      ]
     },
     "execution_count": 27,
     "metadata": {},
     "output_type": "execute_result"
    }
   ],
   "source": [
    "# use np.array to create arrays from python lists\n",
    "A = np.array([1,2,3,4,5])\n",
    "A"
   ]
  },
  {
   "cell_type": "code",
   "execution_count": 28,
   "id": "c996c29c",
   "metadata": {},
   "outputs": [
    {
     "data": {
      "text/plain": [
       "array([3.14, 4.  , 2.  , 3.  ])"
      ]
     },
     "execution_count": 28,
     "metadata": {},
     "output_type": "execute_result"
    }
   ],
   "source": [
    "# If types do not match, Numpy will upcast if possible \n",
    "np.array([3.14, 4, 2, 3])"
   ]
  },
  {
   "cell_type": "code",
   "execution_count": 29,
   "id": "2c77610e",
   "metadata": {},
   "outputs": [
    {
     "data": {
      "text/plain": [
       "array([1., 2., 3., 4.], dtype=float32)"
      ]
     },
     "execution_count": 29,
     "metadata": {},
     "output_type": "execute_result"
    }
   ],
   "source": [
    "# Use dtype keyword to explicitly set the data type of the resulting numpy array\n",
    "np.array([1,2,3,4], dtype='float32')"
   ]
  },
  {
   "cell_type": "code",
   "execution_count": 30,
   "id": "22607fe0",
   "metadata": {},
   "outputs": [
    {
     "data": {
      "text/plain": [
       "array([[2, 3, 4],\n",
       "       [4, 5, 6],\n",
       "       [6, 7, 8]])"
      ]
     },
     "execution_count": 30,
     "metadata": {},
     "output_type": "execute_result"
    }
   ],
   "source": [
    "# Numpy arrays can be explicitly multi-dimensional\n",
    "# One way of initializing a multi-dimensional array using list of lists\n",
    "np.array([range(i, i+3) for i in [2,4,6]])"
   ]
  },
  {
   "cell_type": "markdown",
   "id": "c4659413",
   "metadata": {},
   "source": [
    "<h3>Creating arrays from scratch</h3>"
   ]
  },
  {
   "cell_type": "code",
   "execution_count": 31,
   "id": "85890bed",
   "metadata": {},
   "outputs": [
    {
     "data": {
      "text/plain": [
       "array([0, 0, 0, 0, 0, 0, 0, 0, 0, 0])"
      ]
     },
     "execution_count": 31,
     "metadata": {},
     "output_type": "execute_result"
    }
   ],
   "source": [
    "# it is more efficient to create arrays from scratch using routines built into NumPy\n",
    "# create a length -10 integer array filled with zeros\n",
    "np.zeros(10, dtype=int)"
   ]
  },
  {
   "cell_type": "code",
   "execution_count": 32,
   "id": "6b4d2e54",
   "metadata": {},
   "outputs": [
    {
     "data": {
      "text/plain": [
       "array([[1., 1., 1., 1., 1.],\n",
       "       [1., 1., 1., 1., 1.],\n",
       "       [1., 1., 1., 1., 1.]])"
      ]
     },
     "execution_count": 32,
     "metadata": {},
     "output_type": "execute_result"
    }
   ],
   "source": [
    "# Create a 3X5 floating point array filled with 1s\n",
    "np.ones((3,5), dtype=float)"
   ]
  },
  {
   "cell_type": "code",
   "execution_count": 33,
   "id": "4f97f8cf",
   "metadata": {},
   "outputs": [
    {
     "data": {
      "text/plain": [
       "array([[3.14, 3.14, 3.14, 3.14, 3.14],\n",
       "       [3.14, 3.14, 3.14, 3.14, 3.14],\n",
       "       [3.14, 3.14, 3.14, 3.14, 3.14]])"
      ]
     },
     "execution_count": 33,
     "metadata": {},
     "output_type": "execute_result"
    }
   ],
   "source": [
    "# Create a 3X5 array filled with 3.14\n",
    "np.full((3,5), 3.14)"
   ]
  },
  {
   "cell_type": "code",
   "execution_count": 34,
   "id": "1c9d7902",
   "metadata": {},
   "outputs": [
    {
     "data": {
      "text/plain": [
       "array([ 0,  2,  4,  6,  8, 10, 12, 14, 16, 18])"
      ]
     },
     "execution_count": 34,
     "metadata": {},
     "output_type": "execute_result"
    }
   ],
   "source": [
    "# Create an array filled with linear sequence starting from 0 ending at 20 \n",
    "# stepping by 2. \n",
    "np.arange(0,20,2)"
   ]
  },
  {
   "cell_type": "code",
   "execution_count": 35,
   "id": "eb15cfb4",
   "metadata": {},
   "outputs": [
    {
     "data": {
      "text/plain": [
       "array([0.  , 0.25, 0.5 , 0.75, 1.  ])"
      ]
     },
     "execution_count": 35,
     "metadata": {},
     "output_type": "execute_result"
    }
   ],
   "source": [
    "# Create an array of evenyl spaced values between 0 and 1\n",
    "np.linspace(0,1,5)"
   ]
  },
  {
   "cell_type": "code",
   "execution_count": 42,
   "id": "292fb60f",
   "metadata": {},
   "outputs": [
    {
     "data": {
      "text/plain": [
       "array([[0.51414659, 0.96943926, 0.78320892],\n",
       "       [0.42210716, 0.21468669, 0.69974686],\n",
       "       [0.66552496, 0.90790451, 0.33571719]])"
      ]
     },
     "execution_count": 42,
     "metadata": {},
     "output_type": "execute_result"
    }
   ],
   "source": [
    "# Create a 3x3 array of uniformly distributed random values between 0 and 1\n",
    "np.random.random((3,3))"
   ]
  },
  {
   "cell_type": "code",
   "execution_count": 43,
   "id": "b560d9f8",
   "metadata": {},
   "outputs": [
    {
     "data": {
      "text/plain": [
       "array([[0.45857434, 0.82718701, 0.18583942]])"
      ]
     },
     "execution_count": 43,
     "metadata": {},
     "output_type": "execute_result"
    }
   ],
   "source": [
    "# Create a 1x3 array of uniformly distributed random values between 0 and 1\n",
    "np.random.random((1,3))"
   ]
  },
  {
   "cell_type": "code",
   "execution_count": 44,
   "id": "b2e5f278",
   "metadata": {},
   "outputs": [
    {
     "data": {
      "text/plain": [
       "array([[-1.8818587 , -1.17566424, -0.8923065 ],\n",
       "       [-1.55017276,  0.31881443, -0.55673689],\n",
       "       [ 1.3002756 , -1.128353  , -0.53203171]])"
      ]
     },
     "execution_count": 44,
     "metadata": {},
     "output_type": "execute_result"
    }
   ],
   "source": [
    "# Create a 3x3 array of normally distributed random values with mean 0 and standard deviation 1\n",
    "np.random.normal(0, 1, (3,3))"
   ]
  },
  {
   "cell_type": "code",
   "execution_count": 45,
   "id": "079465ce",
   "metadata": {},
   "outputs": [
    {
     "data": {
      "text/plain": [
       "array([[5, 2, 1],\n",
       "       [3, 8, 8],\n",
       "       [4, 4, 9]])"
      ]
     },
     "execution_count": 45,
     "metadata": {},
     "output_type": "execute_result"
    }
   ],
   "source": [
    "# Create a 3 x 3 array of random integers in the interval [0,10]\n",
    "np.random.randint(0,10,(3,3))"
   ]
  },
  {
   "cell_type": "code",
   "execution_count": 46,
   "id": "4563f070",
   "metadata": {},
   "outputs": [
    {
     "data": {
      "text/plain": [
       "array([[1., 0., 0.],\n",
       "       [0., 1., 0.],\n",
       "       [0., 0., 1.]])"
      ]
     },
     "execution_count": 46,
     "metadata": {},
     "output_type": "execute_result"
    }
   ],
   "source": [
    "# Create an array of 3x3 identity matrix\n",
    "np.eye(3)"
   ]
  },
  {
   "cell_type": "code",
   "execution_count": 47,
   "id": "14879619",
   "metadata": {},
   "outputs": [
    {
     "data": {
      "text/plain": [
       "array([1., 1., 1.])"
      ]
     },
     "execution_count": 47,
     "metadata": {},
     "output_type": "execute_result"
    }
   ],
   "source": [
    "# Create an uninitialized array of three integers\n",
    "np.empty(3)"
   ]
  },
  {
   "cell_type": "code",
   "execution_count": 48,
   "id": "cd69d06a",
   "metadata": {},
   "outputs": [
    {
     "data": {
      "text/plain": [
       "array([0, 0, 0, 0, 0, 0, 0, 0, 0, 0], dtype=int16)"
      ]
     },
     "execution_count": 48,
     "metadata": {},
     "output_type": "execute_result"
    }
   ],
   "source": [
    "# When creating an array, data type can be specified using a string\n",
    "np.zeros(10, dtype=\"int16\")"
   ]
  },
  {
   "cell_type": "code",
   "execution_count": 49,
   "id": "812d82fb",
   "metadata": {},
   "outputs": [
    {
     "data": {
      "text/plain": [
       "array([0, 0, 0, 0, 0, 0, 0, 0, 0, 0], dtype=int16)"
      ]
     },
     "execution_count": 49,
     "metadata": {},
     "output_type": "execute_result"
    }
   ],
   "source": [
    "# The above can also be achieved as below:\n",
    "np.zeros(10, dtype=np.int16)"
   ]
  },
  {
   "cell_type": "code",
   "execution_count": 50,
   "id": "e84f63f4",
   "metadata": {},
   "outputs": [
    {
     "data": {
      "text/plain": [
       "array([0., 0., 0., 0., 0., 0., 0., 0., 0., 0.], dtype=float16)"
      ]
     },
     "execution_count": 50,
     "metadata": {},
     "output_type": "execute_result"
    }
   ],
   "source": [
    "# The same can be achieved as below as well for floats\n",
    "np.zeros(10, dtype=np.float16)\n"
   ]
  }
 ],
 "metadata": {
  "kernelspec": {
   "display_name": "Python 3 (ipykernel)",
   "language": "python",
   "name": "python3"
  },
  "language_info": {
   "codemirror_mode": {
    "name": "ipython",
    "version": 3
   },
   "file_extension": ".py",
   "mimetype": "text/x-python",
   "name": "python",
   "nbconvert_exporter": "python",
   "pygments_lexer": "ipython3",
   "version": "3.10.9"
  }
 },
 "nbformat": 4,
 "nbformat_minor": 5
}
