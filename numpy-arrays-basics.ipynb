{
 "cells": [
  {
   "cell_type": "markdown",
   "id": "a6b41dbf",
   "metadata": {},
   "source": [
    "<h1>Basics of Numpy Arrays</h1>"
   ]
  },
  {
   "cell_type": "markdown",
   "id": "9213bde6",
   "metadata": {},
   "source": [
    "<h3> We will cover few categories of basic array manipulations here </h3>\n",
    "- Attributes of Arrays\n",
    "- Indexing of Arrays\n",
    "- Slicing of Arrays\n",
    "- Reshaping of Arrays\n",
    "- Joining and splitting of Arrays"
   ]
  },
  {
   "cell_type": "markdown",
   "id": "8d3084c7",
   "metadata": {},
   "source": [
    "<h4>Numpy Array Attributes</h4>"
   ]
  },
  {
   "cell_type": "code",
   "execution_count": 1,
   "id": "b95ba441",
   "metadata": {},
   "outputs": [],
   "source": [
    "# Determining the size, shape, memory consumption and data types of arrays\n",
    "# Define three random arrays\n",
    "import numpy as np\n",
    "np.random.seed(0) # seed for reproducibility"
   ]
  },
  {
   "cell_type": "code",
   "execution_count": 2,
   "id": "189b05ac",
   "metadata": {},
   "outputs": [
    {
     "name": "stdout",
     "output_type": "stream",
     "text": [
      "[5 0 3 3 7 9]\n",
      "[[3 5 2 4]\n",
      " [7 6 8 8]\n",
      " [1 6 7 7]]\n",
      "[[[8 1 5 9 8]\n",
      "  [9 4 3 0 3]\n",
      "  [5 0 2 3 8]\n",
      "  [1 3 3 3 7]]\n",
      "\n",
      " [[0 1 9 9 0]\n",
      "  [4 7 3 2 7]\n",
      "  [2 0 0 4 5]\n",
      "  [5 6 8 4 1]]\n",
      "\n",
      " [[4 9 8 1 1]\n",
      "  [7 9 9 3 6]\n",
      "  [7 2 0 3 5]\n",
      "  [9 4 4 6 4]]]\n"
     ]
    }
   ],
   "source": [
    "one_dimensional_array = np.random.randint(10, size=6)\n",
    "two_dimensional_array = np.random.randint(10, size=(3,4))\n",
    "three_dimensional_array = np.random.randint(10, size=(3,4,5))\n",
    "\n",
    "# Print the three arrays\n",
    "print(one_dimensional_array)\n",
    "print(two_dimensional_array)\n",
    "print(three_dimensional_array)"
   ]
  },
  {
   "cell_type": "code",
   "execution_count": 6,
   "id": "524e8eb4",
   "metadata": {},
   "outputs": [
    {
     "name": "stdout",
     "output_type": "stream",
     "text": [
      "one_dimensional_array is ndim  1\n",
      "two_dimensional_array is ndim  2\n",
      "three_dimensional_array is ndim  3\n"
     ]
    }
   ],
   "source": [
    "# Each Array has attributes - ndim - (the number of dimensions of array)\n",
    "print(\"one_dimensional_array is ndim \", one_dimensional_array.ndim)\n",
    "print(\"two_dimensional_array is ndim \", two_dimensional_array.ndim)\n",
    "print(\"three_dimensional_array is ndim \", three_dimensional_array.ndim)"
   ]
  },
  {
   "cell_type": "code",
   "execution_count": 5,
   "id": "2fe8c0bd",
   "metadata": {},
   "outputs": [
    {
     "name": "stdout",
     "output_type": "stream",
     "text": [
      "one_dimensional_array is shape  (6,)\n",
      "two_dimensional_array is shape  (3, 4)\n",
      "three_dimensional_array is shape  (3, 4, 5)\n"
     ]
    }
   ],
   "source": [
    "# Each Array has attribute - shape - (the size of each dimension)\n",
    "print(\"one_dimensional_array is shape \", one_dimensional_array.shape)\n",
    "print(\"two_dimensional_array is shape \", two_dimensional_array.shape)\n",
    "print(\"three_dimensional_array is shape \", three_dimensional_array.shape)"
   ]
  },
  {
   "cell_type": "code",
   "execution_count": 7,
   "id": "b87ce654",
   "metadata": {},
   "outputs": [
    {
     "name": "stdout",
     "output_type": "stream",
     "text": [
      "one_dimensional_array is size  6\n",
      "two_dimensional_array is size  12\n",
      "three_dimensional_array is size  60\n"
     ]
    }
   ],
   "source": [
    "# Each array has attribute - size - (the total size of the array)\n",
    "print(\"one_dimensional_array is size \", one_dimensional_array.size)\n",
    "print(\"two_dimensional_array is size \", two_dimensional_array.size)\n",
    "print(\"three_dimensional_array is size \", three_dimensional_array.size)"
   ]
  },
  {
   "cell_type": "code",
   "execution_count": 8,
   "id": "06165353",
   "metadata": {},
   "outputs": [
    {
     "name": "stdout",
     "output_type": "stream",
     "text": [
      "one_dimensional_array dtype:  int64\n",
      "two_dimensional_array dtype:  int64\n",
      "three_dimensional_array dtype:  int64\n"
     ]
    }
   ],
   "source": [
    "# dtype attribute tells the data type of the array\n",
    "print(\"one_dimensional_array dtype: \",one_dimensional_array.dtype)\n",
    "print(\"two_dimensional_array dtype: \", two_dimensional_array.dtype)\n",
    "print(\"three_dimensional_array dtype: \",three_dimensional_array.dtype)"
   ]
  },
  {
   "cell_type": "code",
   "execution_count": 9,
   "id": "0ad895cb",
   "metadata": {},
   "outputs": [
    {
     "name": "stdout",
     "output_type": "stream",
     "text": [
      "one_dimensional_array itemsize:  8  bytes\n",
      "two_dimensional_array itemsize:  8  bytes\n",
      "three_dimensional_array itemsize:  8  bytes\n"
     ]
    }
   ],
   "source": [
    "# itemsize attribute lists the size of each array element\n",
    "print(\"one_dimensional_array itemsize: \",one_dimensional_array.itemsize, \" bytes\")\n",
    "print(\"two_dimensional_array itemsize: \", two_dimensional_array.itemsize, \" bytes\")\n",
    "print(\"three_dimensional_array itemsize: \",three_dimensional_array.itemsize, \" bytes\")"
   ]
  },
  {
   "cell_type": "code",
   "execution_count": 11,
   "id": "87dc0621",
   "metadata": {},
   "outputs": [
    {
     "name": "stdout",
     "output_type": "stream",
     "text": [
      "one_dimensional_array nbytes:  48  bytes\n",
      "two_dimensional_array nbytes:  96  bytes\n",
      "three_dimensional_array nbytes:  480  bytes\n"
     ]
    }
   ],
   "source": [
    "# nbytes lists the total size (in bytes of array)\n",
    "# nbytes is equal to to itemsize times size. \n",
    "print(\"one_dimensional_array nbytes: \",one_dimensional_array.nbytes, \" bytes\")\n",
    "print(\"two_dimensional_array nbytes: \", two_dimensional_array.nbytes, \" bytes\")\n",
    "print(\"three_dimensional_array nbytes: \",three_dimensional_array.nbytes, \" bytes\")"
   ]
  },
  {
   "cell_type": "markdown",
   "id": "c0ef477b",
   "metadata": {},
   "source": [
    "<h4> Numpy Array Indexing: Accessing Single Elements </h4>"
   ]
  },
  {
   "cell_type": "code",
   "execution_count": 12,
   "id": "709d7ef5",
   "metadata": {},
   "outputs": [
    {
     "data": {
      "text/plain": [
       "array([5, 0, 3, 3, 7, 9])"
      ]
     },
     "execution_count": 12,
     "metadata": {},
     "output_type": "execute_result"
    }
   ],
   "source": [
    "# Getting and setting the values of individual array elements. \n",
    "# In a one dimensional array, you can access the ith value by specifiying the desired index in square brackets. \n",
    "one_dimensional_array"
   ]
  },
  {
   "cell_type": "code",
   "execution_count": 13,
   "id": "4afc080b",
   "metadata": {},
   "outputs": [
    {
     "data": {
      "text/plain": [
       "5"
      ]
     },
     "execution_count": 13,
     "metadata": {},
     "output_type": "execute_result"
    }
   ],
   "source": [
    "one_dimensional_array[0]"
   ]
  },
  {
   "cell_type": "code",
   "execution_count": 14,
   "id": "39efd0e3",
   "metadata": {},
   "outputs": [
    {
     "data": {
      "text/plain": [
       "7"
      ]
     },
     "execution_count": 14,
     "metadata": {},
     "output_type": "execute_result"
    }
   ],
   "source": [
    "one_dimensional_array[4]"
   ]
  },
  {
   "cell_type": "code",
   "execution_count": 15,
   "id": "76e971ed",
   "metadata": {},
   "outputs": [
    {
     "data": {
      "text/plain": [
       "9"
      ]
     },
     "execution_count": 15,
     "metadata": {},
     "output_type": "execute_result"
    }
   ],
   "source": [
    "# To index from the end of the array\n",
    "one_dimensional_array[-1]"
   ]
  },
  {
   "cell_type": "code",
   "execution_count": 16,
   "id": "4a722ad7",
   "metadata": {},
   "outputs": [
    {
     "data": {
      "text/plain": [
       "7"
      ]
     },
     "execution_count": 16,
     "metadata": {},
     "output_type": "execute_result"
    }
   ],
   "source": [
    "one_dimensional_array[-2]"
   ]
  },
  {
   "cell_type": "code",
   "execution_count": 17,
   "id": "29fb8b6d",
   "metadata": {},
   "outputs": [
    {
     "data": {
      "text/plain": [
       "array([[3, 5, 2, 4],\n",
       "       [7, 6, 8, 8],\n",
       "       [1, 6, 7, 7]])"
      ]
     },
     "execution_count": 17,
     "metadata": {},
     "output_type": "execute_result"
    }
   ],
   "source": [
    "# In a multi dimensional array you access items using a comma separated tuple of indices.\n",
    "two_dimensional_array"
   ]
  },
  {
   "cell_type": "code",
   "execution_count": 18,
   "id": "607f15f7",
   "metadata": {},
   "outputs": [
    {
     "data": {
      "text/plain": [
       "3"
      ]
     },
     "execution_count": 18,
     "metadata": {},
     "output_type": "execute_result"
    }
   ],
   "source": [
    "two_dimensional_array[0,0]"
   ]
  },
  {
   "cell_type": "code",
   "execution_count": 19,
   "id": "605df76f",
   "metadata": {},
   "outputs": [
    {
     "data": {
      "text/plain": [
       "1"
      ]
     },
     "execution_count": 19,
     "metadata": {},
     "output_type": "execute_result"
    }
   ],
   "source": [
    "two_dimensional_array[2,0]"
   ]
  },
  {
   "cell_type": "code",
   "execution_count": 20,
   "id": "a3339232",
   "metadata": {},
   "outputs": [
    {
     "data": {
      "text/plain": [
       "7"
      ]
     },
     "execution_count": 20,
     "metadata": {},
     "output_type": "execute_result"
    }
   ],
   "source": [
    "two_dimensional_array[2,-1]"
   ]
  },
  {
   "cell_type": "code",
   "execution_count": 21,
   "id": "a9c1e8e6",
   "metadata": {},
   "outputs": [
    {
     "data": {
      "text/plain": [
       "array([[12,  5,  2,  4],\n",
       "       [ 7,  6,  8,  8],\n",
       "       [ 1,  6,  7,  7]])"
      ]
     },
     "execution_count": 21,
     "metadata": {},
     "output_type": "execute_result"
    }
   ],
   "source": [
    "# The values can also be modified using any of the notations.\n",
    "two_dimensional_array[0,0] = 12\n",
    "two_dimensional_array"
   ]
  },
  {
   "cell_type": "code",
   "execution_count": 22,
   "id": "e8eee30d",
   "metadata": {},
   "outputs": [
    {
     "data": {
      "text/plain": [
       "array([3, 0, 3, 3, 7, 9])"
      ]
     },
     "execution_count": 22,
     "metadata": {},
     "output_type": "execute_result"
    }
   ],
   "source": [
    "# As Numpy arrays have a fixed type - If you insert a floating type value to an integer array , the value will be \n",
    "# silently truncated\n",
    "one_dimensional_array[0] = 3.14\n",
    "one_dimensional_array"
   ]
  },
  {
   "cell_type": "markdown",
   "id": "98d68e1f",
   "metadata": {},
   "source": [
    "<h4>Array Slicing: Accessing Subarrays</h4>"
   ]
  },
  {
   "cell_type": "code",
   "execution_count": 24,
   "id": "ef86e01d",
   "metadata": {},
   "outputs": [
    {
     "data": {
      "text/plain": [
       "array([0, 1, 2, 3, 4, 5, 6, 7, 8, 9])"
      ]
     },
     "execution_count": 24,
     "metadata": {},
     "output_type": "execute_result"
    }
   ],
   "source": [
    "# Getting and setting smaller subarrays within a larger array\n",
    "# We can use square brackets to access subarrays with the slice notation, marked with colon : character\n",
    "# Syntax is for array x : x[start:stop:step]\n",
    "# If any of these are unspecified the values default to:\n",
    "# start = 0, stop = soze, step =1 \n",
    "one_dim_x = np.arange(10)\n",
    "one_dim_x"
   ]
  },
  {
   "cell_type": "code",
   "execution_count": 25,
   "id": "2763ac55",
   "metadata": {},
   "outputs": [
    {
     "data": {
      "text/plain": [
       "array([0, 1, 2, 3, 4])"
      ]
     },
     "execution_count": 25,
     "metadata": {},
     "output_type": "execute_result"
    }
   ],
   "source": [
    "# First five elements\n",
    "one_dim_x[:5]"
   ]
  },
  {
   "cell_type": "code",
   "execution_count": 26,
   "id": "51ca52f0",
   "metadata": {},
   "outputs": [
    {
     "data": {
      "text/plain": [
       "array([5, 6, 7, 8, 9])"
      ]
     },
     "execution_count": 26,
     "metadata": {},
     "output_type": "execute_result"
    }
   ],
   "source": [
    "# Elements after index 5\n",
    "one_dim_x[5:]"
   ]
  },
  {
   "cell_type": "code",
   "execution_count": 27,
   "id": "45dd4b88",
   "metadata": {},
   "outputs": [
    {
     "data": {
      "text/plain": [
       "array([4, 5, 6])"
      ]
     },
     "execution_count": 27,
     "metadata": {},
     "output_type": "execute_result"
    }
   ],
   "source": [
    "# Middle Sub Array\n",
    "one_dim_x[4:7]"
   ]
  },
  {
   "cell_type": "code",
   "execution_count": 28,
   "id": "42d86751",
   "metadata": {},
   "outputs": [
    {
     "data": {
      "text/plain": [
       "array([0, 2, 4, 6, 8])"
      ]
     },
     "execution_count": 28,
     "metadata": {},
     "output_type": "execute_result"
    }
   ],
   "source": [
    "# Every other element\n",
    "one_dim_x[::2]"
   ]
  },
  {
   "cell_type": "code",
   "execution_count": 31,
   "id": "40f41081",
   "metadata": {},
   "outputs": [
    {
     "data": {
      "text/plain": [
       "array([1, 3, 5, 7, 9])"
      ]
     },
     "execution_count": 31,
     "metadata": {},
     "output_type": "execute_result"
    }
   ],
   "source": [
    "# Every other element starting at index 1\n",
    "one_dim_x[1::2]"
   ]
  },
  {
   "cell_type": "code",
   "execution_count": 33,
   "id": "f01b254c",
   "metadata": {},
   "outputs": [
    {
     "data": {
      "text/plain": [
       "array([9, 8, 7, 6, 5, 4, 3, 2, 1, 0])"
      ]
     },
     "execution_count": 33,
     "metadata": {},
     "output_type": "execute_result"
    }
   ],
   "source": [
    "# In case the value of step is negative then defaults of start and stop are swapped. \n",
    "# This becomes a convenient way to reverse an array\n",
    "one_dim_x[::-1]  # All elements, reversed"
   ]
  },
  {
   "cell_type": "code",
   "execution_count": 34,
   "id": "106dc97b",
   "metadata": {},
   "outputs": [
    {
     "data": {
      "text/plain": [
       "array([5, 3, 1])"
      ]
     },
     "execution_count": 34,
     "metadata": {},
     "output_type": "execute_result"
    }
   ],
   "source": [
    "one_dim_x[5::-2] # Reverse every other from index 5"
   ]
  },
  {
   "cell_type": "code",
   "execution_count": 35,
   "id": "ba3286ae",
   "metadata": {},
   "outputs": [
    {
     "data": {
      "text/plain": [
       "array([[12,  5,  2,  4],\n",
       "       [ 7,  6,  8,  8],\n",
       "       [ 1,  6,  7,  7]])"
      ]
     },
     "execution_count": 35,
     "metadata": {},
     "output_type": "execute_result"
    }
   ],
   "source": [
    "# Multi-dimensional subarray slices work with multiple slices separated by commas. \n",
    "two_dimensional_array"
   ]
  },
  {
   "cell_type": "code",
   "execution_count": 36,
   "id": "9bfd9298",
   "metadata": {},
   "outputs": [
    {
     "data": {
      "text/plain": [
       "array([[12,  5,  2],\n",
       "       [ 7,  6,  8]])"
      ]
     },
     "execution_count": 36,
     "metadata": {},
     "output_type": "execute_result"
    }
   ],
   "source": [
    "# Sub array of two rows three columns\n",
    "two_dimensional_array[:2,:3]"
   ]
  },
  {
   "cell_type": "code",
   "execution_count": 38,
   "id": "9d354c52",
   "metadata": {},
   "outputs": [
    {
     "data": {
      "text/plain": [
       "array([[12,  2],\n",
       "       [ 7,  8],\n",
       "       [ 1,  7]])"
      ]
     },
     "execution_count": 38,
     "metadata": {},
     "output_type": "execute_result"
    }
   ],
   "source": [
    "# All rows every other column\n",
    "two_dimensional_array[:3,::2]"
   ]
  },
  {
   "cell_type": "code",
   "execution_count": 39,
   "id": "c2464081",
   "metadata": {},
   "outputs": [
    {
     "data": {
      "text/plain": [
       "array([[ 4,  2,  5, 12],\n",
       "       [ 8,  8,  6,  7],\n",
       "       [ 7,  7,  6,  1]])"
      ]
     },
     "execution_count": 39,
     "metadata": {},
     "output_type": "execute_result"
    }
   ],
   "source": [
    "# Subarray dimensions can be reversed\n",
    "two_dimensional_array[::1, ::-1]"
   ]
  },
  {
   "cell_type": "code",
   "execution_count": 40,
   "id": "82053659",
   "metadata": {},
   "outputs": [
    {
     "name": "stdout",
     "output_type": "stream",
     "text": [
      "[12  7  1]\n"
     ]
    }
   ],
   "source": [
    "# Accessing single rows or columns of an array\n",
    "# This can be done by indexing and slicing using and empty slice marked by a single colon (:)\n",
    "print(two_dimensional_array[:,0])"
   ]
  },
  {
   "cell_type": "code",
   "execution_count": 42,
   "id": "47c65a98",
   "metadata": {},
   "outputs": [
    {
     "name": "stdout",
     "output_type": "stream",
     "text": [
      "[12  5  2  4]\n",
      "[12  5  2  4]\n"
     ]
    }
   ],
   "source": [
    "print(two_dimensional_array[0,:])\n",
    "\n",
    "# In case of row access the empty slice can be omitted\n",
    "print(two_dimensional_array[0])"
   ]
  },
  {
   "cell_type": "code",
   "execution_count": 43,
   "id": "efa8f38b",
   "metadata": {},
   "outputs": [
    {
     "name": "stdout",
     "output_type": "stream",
     "text": [
      "[[12  5  2  4]\n",
      " [ 7  6  8  8]\n",
      " [ 1  6  7  7]]\n"
     ]
    }
   ],
   "source": [
    "# Slices return view rather than copies of array data\n",
    "# In Python lists slices will be copies. \n",
    "print(two_dimensional_array)"
   ]
  },
  {
   "cell_type": "code",
   "execution_count": 44,
   "id": "57ec300f",
   "metadata": {},
   "outputs": [
    {
     "name": "stdout",
     "output_type": "stream",
     "text": [
      "[[12  5]\n",
      " [ 7  6]]\n"
     ]
    }
   ],
   "source": [
    "# Extract 2 x 2 subarray from two_dimensional_array\n",
    "two_dimensional_array_sub = two_dimensional_array[:2,:2]\n",
    "print(two_dimensional_array_sub)"
   ]
  },
  {
   "cell_type": "code",
   "execution_count": 45,
   "id": "b99c112e",
   "metadata": {},
   "outputs": [
    {
     "name": "stdout",
     "output_type": "stream",
     "text": [
      "[[99  5]\n",
      " [ 7  6]]\n"
     ]
    }
   ],
   "source": [
    "# Modifying the sub array will change the original array\n",
    "two_dimensional_array_sub[0,0] = 99\n",
    "print(two_dimensional_array_sub)"
   ]
  },
  {
   "cell_type": "code",
   "execution_count": 47,
   "id": "f9584ad4",
   "metadata": {},
   "outputs": [
    {
     "name": "stdout",
     "output_type": "stream",
     "text": [
      "[[99  5  2  4]\n",
      " [ 7  6  8  8]\n",
      " [ 1  6  7  7]]\n"
     ]
    }
   ],
   "source": [
    "# print original array\n",
    "print(two_dimensional_array)\n",
    "\n",
    "# This behaviour is useful when we work with large data sets. We can access and process pieces of these datasets\n",
    "# without the need to copy the underlying data buffer."
   ]
  },
  {
   "cell_type": "code",
   "execution_count": 48,
   "id": "d5d60a62",
   "metadata": {},
   "outputs": [
    {
     "name": "stdout",
     "output_type": "stream",
     "text": [
      "[[99  5]\n",
      " [ 7  6]]\n"
     ]
    }
   ],
   "source": [
    "# Creating copy of arrays using copy() method\n",
    "two_dimensional_array_sub_copy = two_dimensional_array[:2,:2].copy()\n",
    "print(two_dimensional_array_sub_copy)"
   ]
  },
  {
   "cell_type": "code",
   "execution_count": 49,
   "id": "5619e2bf",
   "metadata": {},
   "outputs": [
    {
     "name": "stdout",
     "output_type": "stream",
     "text": [
      "[[42  5]\n",
      " [ 7  6]]\n"
     ]
    }
   ],
   "source": [
    "# on modifying the subarray the original array is not touched. \n",
    "two_dimensional_array_sub_copy[0,0] = 42\n",
    "print(two_dimensional_array_sub_copy)"
   ]
  },
  {
   "cell_type": "code",
   "execution_count": 51,
   "id": "6aa3ba2c",
   "metadata": {},
   "outputs": [
    {
     "name": "stdout",
     "output_type": "stream",
     "text": [
      "[[99  5  2  4]\n",
      " [ 7  6  8  8]\n",
      " [ 1  6  7  7]]\n"
     ]
    }
   ],
   "source": [
    "# Original unchanged array\n",
    "print(two_dimensional_array)"
   ]
  },
  {
   "cell_type": "markdown",
   "id": "d75ab5ba",
   "metadata": {},
   "source": [
    "<h4>Reshaping of Arrays</h4>"
   ]
  },
  {
   "cell_type": "code",
   "execution_count": 54,
   "id": "6bcc3ccc",
   "metadata": {},
   "outputs": [
    {
     "name": "stdout",
     "output_type": "stream",
     "text": [
      "[[1 2 3]\n",
      " [4 5 6]\n",
      " [7 8 9]]\n"
     ]
    }
   ],
   "source": [
    "# Changing the shape of a given array\n",
    "# Most flexible way is to use reshape()\n",
    "grid = np.arange(1,10).reshape((3,3))\n",
    "print(grid)\n",
    "\n",
    "# Note: For this to work the size of the original array and the size of the reshaped array should match."
   ]
  },
  {
   "cell_type": "code",
   "execution_count": 55,
   "id": "364671c3",
   "metadata": {},
   "outputs": [
    {
     "data": {
      "text/plain": [
       "array([[1, 2, 3]])"
      ]
     },
     "execution_count": 55,
     "metadata": {},
     "output_type": "execute_result"
    }
   ],
   "source": [
    "# reshape can also be done using the newaxis method\n",
    "x = np.array([1,2,3])\n",
    "\n",
    "# row vector via reshape method\n",
    "x.reshape((1,3))"
   ]
  },
  {
   "cell_type": "code",
   "execution_count": 56,
   "id": "ca373ec5",
   "metadata": {},
   "outputs": [
    {
     "data": {
      "text/plain": [
       "array([[1, 2, 3]])"
      ]
     },
     "execution_count": 56,
     "metadata": {},
     "output_type": "execute_result"
    }
   ],
   "source": [
    "# row vector via newaxis method\n",
    "x[np.newaxis,:]"
   ]
  },
  {
   "cell_type": "code",
   "execution_count": 57,
   "id": "e1d9cd6a",
   "metadata": {},
   "outputs": [
    {
     "data": {
      "text/plain": [
       "array([[1],\n",
       "       [2],\n",
       "       [3]])"
      ]
     },
     "execution_count": 57,
     "metadata": {},
     "output_type": "execute_result"
    }
   ],
   "source": [
    "# Column vector using reshape method\n",
    "x.reshape((3,1))"
   ]
  },
  {
   "cell_type": "code",
   "execution_count": 58,
   "id": "f9931351",
   "metadata": {},
   "outputs": [
    {
     "data": {
      "text/plain": [
       "array([[1],\n",
       "       [2],\n",
       "       [3]])"
      ]
     },
     "execution_count": 58,
     "metadata": {},
     "output_type": "execute_result"
    }
   ],
   "source": [
    "# Column vector using newaxis method\n",
    "x[:,np.newaxis]"
   ]
  },
  {
   "cell_type": "markdown",
   "id": "87246276",
   "metadata": {},
   "source": [
    "<h4>Array Concatenation and Splitting</h4>"
   ]
  },
  {
   "cell_type": "code",
   "execution_count": 59,
   "id": "3b54f9a3",
   "metadata": {},
   "outputs": [],
   "source": [
    "# Combining multiple arrays into one, and splitting one array into many\n",
    "# Concatenation of Arrays\n",
    "# Concatenation is done using following routines:\n",
    "# - np.concatenate\n",
    "# - np.vstack\n",
    "# - np.hstack"
   ]
  },
  {
   "cell_type": "code",
   "execution_count": 60,
   "id": "04096f5d",
   "metadata": {},
   "outputs": [
    {
     "data": {
      "text/plain": [
       "array([1, 2, 3, 3, 2, 1])"
      ]
     },
     "execution_count": 60,
     "metadata": {},
     "output_type": "execute_result"
    }
   ],
   "source": [
    "# np.concatenate takes a tuple or list of arrays as its first argument\n",
    "x = np.array([1,2,3])\n",
    "y = np.array([3,2,1])\n",
    "np.concatenate([x,y])"
   ]
  },
  {
   "cell_type": "code",
   "execution_count": 61,
   "id": "cd6582ed",
   "metadata": {},
   "outputs": [
    {
     "data": {
      "text/plain": [
       "array([ 1,  2,  3,  3,  2,  1, 99, 99, 99])"
      ]
     },
     "execution_count": 61,
     "metadata": {},
     "output_type": "execute_result"
    }
   ],
   "source": [
    "# Multiple arrays can be concatenated at once\n",
    "z = [99,99,99]\n",
    "np.concatenate([x,y,z])"
   ]
  },
  {
   "cell_type": "code",
   "execution_count": 62,
   "id": "863fb104",
   "metadata": {},
   "outputs": [
    {
     "data": {
      "text/plain": [
       "array([[1, 2, 3],\n",
       "       [4, 5, 6],\n",
       "       [1, 2, 3],\n",
       "       [4, 5, 6]])"
      ]
     },
     "execution_count": 62,
     "metadata": {},
     "output_type": "execute_result"
    }
   ],
   "source": [
    "# np.concatenate can also be used for two dimensional arrays\n",
    "grid = np.array([[1,2,3],\n",
    "                 [4,5,6]])\n",
    "# Concatenate along the first axis\n",
    "np.concatenate([grid,grid])"
   ]
  },
  {
   "cell_type": "code",
   "execution_count": 63,
   "id": "96ddc215",
   "metadata": {},
   "outputs": [
    {
     "data": {
      "text/plain": [
       "array([[1, 2, 3, 1, 2, 3],\n",
       "       [4, 5, 6, 4, 5, 6]])"
      ]
     },
     "execution_count": 63,
     "metadata": {},
     "output_type": "execute_result"
    }
   ],
   "source": [
    "# Concatenate along second axis where in axis is zero-indexed\n",
    "np.concatenate([grid,grid], axis = 1)"
   ]
  },
  {
   "cell_type": "code",
   "execution_count": 65,
   "id": "f6303190",
   "metadata": {},
   "outputs": [
    {
     "data": {
      "text/plain": [
       "array([[1, 2, 3],\n",
       "       [9, 8, 7],\n",
       "       [6, 5, 4]])"
      ]
     },
     "execution_count": 65,
     "metadata": {},
     "output_type": "execute_result"
    }
   ],
   "source": [
    "# For working with arrays of mixed dimensions we should use np.vstack (vertical stack) \n",
    "# and np.hstack(horizontal stack)\n",
    "x = np.array([1,2,3])\n",
    "grid = np.array([[9,8,7],\n",
    "                [6,5,4]])\n",
    "# vertically stack the arrays\n",
    "np.vstack([x, grid])"
   ]
  },
  {
   "cell_type": "code",
   "execution_count": 68,
   "id": "70c46c19",
   "metadata": {},
   "outputs": [
    {
     "data": {
      "text/plain": [
       "array([[ 9,  8,  7, 99],\n",
       "       [ 6,  5,  4, 99]])"
      ]
     },
     "execution_count": 68,
     "metadata": {},
     "output_type": "execute_result"
    }
   ],
   "source": [
    "# horizontally stack the array\n",
    "y = np.array([[99],\n",
    "            [99]])\n",
    "np.hstack([grid, y])\n",
    "\n",
    "# np.dstack will stack arrays along the third axis. "
   ]
  },
  {
   "cell_type": "code",
   "execution_count": 69,
   "id": "933bfb62",
   "metadata": {},
   "outputs": [],
   "source": [
    "# Splitting is opposite to concatenation\n",
    "# It is implemented by the following functions:\n",
    "# - np.split\n",
    "# - np.vsplit\n",
    "# - np.hsplit"
   ]
  },
  {
   "cell_type": "code",
   "execution_count": 70,
   "id": "92711b95",
   "metadata": {},
   "outputs": [
    {
     "name": "stdout",
     "output_type": "stream",
     "text": [
      "[1 2 3] [99 99] [3 2 1]\n"
     ]
    }
   ],
   "source": [
    "# Splitting the array\n",
    "x = [1,2,3,99,99,3,2,1]\n",
    "x1,x2,x3 = np.split(x, [3,5])\n",
    "print(x1,x2,x3)"
   ]
  },
  {
   "cell_type": "code",
   "execution_count": 71,
   "id": "e4d6be3a",
   "metadata": {},
   "outputs": [
    {
     "data": {
      "text/plain": [
       "array([[ 0,  1,  2,  3],\n",
       "       [ 4,  5,  6,  7],\n",
       "       [ 8,  9, 10, 11],\n",
       "       [12, 13, 14, 15]])"
      ]
     },
     "execution_count": 71,
     "metadata": {},
     "output_type": "execute_result"
    }
   ],
   "source": [
    "# N Split points lead to N + 1 subarrays\n",
    "grid = np.arange(16).reshape(4,4)\n",
    "grid"
   ]
  },
  {
   "cell_type": "code",
   "execution_count": 72,
   "id": "3ac6db52",
   "metadata": {},
   "outputs": [
    {
     "name": "stdout",
     "output_type": "stream",
     "text": [
      "[[0 1 2 3]\n",
      " [4 5 6 7]]\n",
      "[[ 8  9 10 11]\n",
      " [12 13 14 15]]\n"
     ]
    }
   ],
   "source": [
    "# Vertical split is using np.vsplit\n",
    "upper, lower = np.vsplit(grid, [2])\n",
    "print(upper)\n",
    "print(lower)"
   ]
  },
  {
   "cell_type": "code",
   "execution_count": 73,
   "id": "2f5575d5",
   "metadata": {},
   "outputs": [
    {
     "name": "stdout",
     "output_type": "stream",
     "text": [
      "[[ 0  1]\n",
      " [ 4  5]\n",
      " [ 8  9]\n",
      " [12 13]]\n",
      "[[ 2  3]\n",
      " [ 6  7]\n",
      " [10 11]\n",
      " [14 15]]\n"
     ]
    }
   ],
   "source": [
    "# horizontal split is using np.hsplit\n",
    "left, right = np.hsplit(grid, [2])\n",
    "print(left)\n",
    "print(right)\n",
    "\n",
    "# np.dsplit will split the array on third axis. "
   ]
  }
 ],
 "metadata": {
  "kernelspec": {
   "display_name": "Python 3 (ipykernel)",
   "language": "python",
   "name": "python3"
  },
  "language_info": {
   "codemirror_mode": {
    "name": "ipython",
    "version": 3
   },
   "file_extension": ".py",
   "mimetype": "text/x-python",
   "name": "python",
   "nbconvert_exporter": "python",
   "pygments_lexer": "ipython3",
   "version": "3.10.9"
  }
 },
 "nbformat": 4,
 "nbformat_minor": 5
}
