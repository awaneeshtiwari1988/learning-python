{
 "cells": [
  {
   "cell_type": "markdown",
   "id": "59095ac8",
   "metadata": {},
   "source": [
    "<h1>Handling Missing Data</h1>"
   ]
  },
  {
   "cell_type": "code",
   "execution_count": 1,
   "id": "473ad4d5",
   "metadata": {},
   "outputs": [],
   "source": [
    "# Interesting data sets have some amount of data missing. \n",
    "# To make matters even more complicated, different data sources may indicate missing data in different ways\n",
    "\n",
    "# Missing data in general is refered to as null, NaN, or NA values. "
   ]
  },
  {
   "cell_type": "markdown",
   "id": "58bf28ac",
   "metadata": {},
   "source": [
    "<h3>Trade Offs in Missing Data Conventions</h3>"
   ]
  },
  {
   "cell_type": "code",
   "execution_count": 2,
   "id": "3e3a392c",
   "metadata": {},
   "outputs": [],
   "source": [
    "# Strategies around missing data in a table in Data frame:\n",
    "\n",
    "# Strategy 1: Using a mask that globally indicates missing values. \n",
    "# Strategy 2: Choosing a sentinel value that indicates a missing entry. \n",
    "\n",
    "# In the maksing approach, the mask might be an entirely separate Boolean array, or it may involve appropriation \n",
    "# of one bit in the data representation to locally indicate the null status of a value. \n",
    "\n",
    "# In the sentinel approach, the sentinel value could be some data specific convention. \n",
    "\n",
    "# A sentinel value reduces the range of valid values that can be represented and may require extra logic in CPU\n",
    "# and GPU arithmetic. "
   ]
  },
  {
   "cell_type": "markdown",
   "id": "0c698514",
   "metadata": {},
   "source": [
    "<h3>Missing Data in Pandas</h3>"
   ]
  },
  {
   "cell_type": "code",
   "execution_count": 3,
   "id": "40a4581d",
   "metadata": {},
   "outputs": [],
   "source": [
    "# NumPy supports fourteen basic integer types once you account for available precisions, signedness\n",
    "# and endianness of the encoding.\n",
    "\n",
    "# NumPy does have support for masked arrays - that is arrays that have separate Boolean Mask array attachedd\n",
    "# for marking data as \"good\" or \"bad\""
   ]
  },
  {
   "cell_type": "code",
   "execution_count": 4,
   "id": "94f2ad92",
   "metadata": {},
   "outputs": [],
   "source": [
    "# Pandas chose to use sentinels for missing data and further chose to use already existing null values:\n",
    "# the special floating point NaN value\n",
    "# the python None object."
   ]
  },
  {
   "cell_type": "markdown",
   "id": "dfefe2d6",
   "metadata": {},
   "source": [
    "<h4>None: Pythonic missing data</h4>"
   ]
  },
  {
   "cell_type": "code",
   "execution_count": 19,
   "id": "35bead72",
   "metadata": {},
   "outputs": [],
   "source": [
    "# This first sentinel value used by Pandas is None, a Python singletone object that is often used for missing\n",
    "# data in Python code. \n",
    "\n",
    "# As None is Python object, it cannont be used in any arbitrary NumPy/Pandas array, but only in arrays with \n",
    "# data type \"object\"\n",
    "\n",
    "import numpy as np\n",
    "import pandas as pd"
   ]
  },
  {
   "cell_type": "code",
   "execution_count": 6,
   "id": "67215ef9",
   "metadata": {},
   "outputs": [
    {
     "data": {
      "text/plain": [
       "array([1, None, 3, 4], dtype=object)"
      ]
     },
     "execution_count": 6,
     "metadata": {},
     "output_type": "execute_result"
    }
   ],
   "source": [
    "vals1 = np.array([1, None, 3,4])\n",
    "vals1"
   ]
  },
  {
   "cell_type": "code",
   "execution_count": 8,
   "id": "e15cdeb8",
   "metadata": {},
   "outputs": [
    {
     "name": "stdout",
     "output_type": "stream",
     "text": [
      "dtype =  object\n",
      "26.2 ms ± 302 µs per loop (mean ± std. dev. of 7 runs, 10 loops each)\n",
      "\n",
      "dtype =  int\n",
      "713 µs ± 837 ns per loop (mean ± std. dev. of 7 runs, 1,000 loops each)\n",
      "\n"
     ]
    }
   ],
   "source": [
    "# With object array any operations on the data will be done at python level will have more overhead\n",
    "for dtype in [\"object\", \"int\"]:\n",
    "    print(\"dtype = \", dtype)\n",
    "    %timeit np.arange(1E6,dtype=dtype).sum()\n",
    "    print()"
   ]
  },
  {
   "cell_type": "code",
   "execution_count": 9,
   "id": "e6985527",
   "metadata": {},
   "outputs": [
    {
     "name": "stdout",
     "output_type": "stream",
     "text": [
      "Unexpected exception formatting exception. Falling back to standard exception\n"
     ]
    },
    {
     "name": "stderr",
     "output_type": "stream",
     "text": [
      "Traceback (most recent call last):\n",
      "  File \"/Users/awaneeshtiwari/anaconda3/lib/python3.10/site-packages/IPython/core/interactiveshell.py\", line 3460, in run_code\n",
      "  File \"/var/folders/c8/z4lh2j2s5kq5jvv28mrv0rw40000gn/T/ipykernel_95111/3962276766.py\", line 3, in <module>\n",
      "    vals1.sum()\n",
      "  File \"/Users/awaneeshtiwari/anaconda3/lib/python3.10/site-packages/numpy/core/_methods.py\", line 48, in _sum\n",
      "TypeError: unsupported operand type(s) for +: 'int' and 'NoneType'\n",
      "\n",
      "During handling of the above exception, another exception occurred:\n",
      "\n",
      "Traceback (most recent call last):\n",
      "  File \"/Users/awaneeshtiwari/anaconda3/lib/python3.10/site-packages/pygments/styles/__init__.py\", line 78, in get_style_by_name\n",
      "ModuleNotFoundError: No module named 'pygments.styles.default'\n",
      "\n",
      "During handling of the above exception, another exception occurred:\n",
      "\n",
      "Traceback (most recent call last):\n",
      "  File \"/Users/awaneeshtiwari/anaconda3/lib/python3.10/site-packages/IPython/core/interactiveshell.py\", line 2057, in showtraceback\n",
      "  File \"/Users/awaneeshtiwari/anaconda3/lib/python3.10/site-packages/IPython/core/ultratb.py\", line 1118, in structured_traceback\n",
      "  File \"/Users/awaneeshtiwari/anaconda3/lib/python3.10/site-packages/IPython/core/ultratb.py\", line 1012, in structured_traceback\n",
      "  File \"/Users/awaneeshtiwari/anaconda3/lib/python3.10/site-packages/IPython/core/ultratb.py\", line 865, in structured_traceback\n",
      "  File \"/Users/awaneeshtiwari/anaconda3/lib/python3.10/site-packages/IPython/core/ultratb.py\", line 799, in format_exception_as_a_whole\n",
      "  File \"/Users/awaneeshtiwari/anaconda3/lib/python3.10/site-packages/IPython/core/ultratb.py\", line 844, in get_records\n",
      "  File \"/Users/awaneeshtiwari/anaconda3/lib/python3.10/site-packages/pygments/styles/__init__.py\", line 80, in get_style_by_name\n",
      "pygments.util.ClassNotFound: Could not find style module 'default', though it should be builtin.\n"
     ]
    }
   ],
   "source": [
    "# The use of Python objects in an array also means that if you perform aggregations like sum() or min() \n",
    "# across an array with a None value you will generally get an error. \n",
    "vals1.sum()"
   ]
  },
  {
   "cell_type": "code",
   "execution_count": 10,
   "id": "bdbef45c",
   "metadata": {},
   "outputs": [],
   "source": [
    "# This reflects the fact that addition between an integer and None is undefined."
   ]
  },
  {
   "cell_type": "markdown",
   "id": "f6882bee",
   "metadata": {},
   "source": [
    "<h4>Nan: Missing Numerical Data</h4>"
   ]
  },
  {
   "cell_type": "code",
   "execution_count": 11,
   "id": "3e36d89d",
   "metadata": {},
   "outputs": [
    {
     "data": {
      "text/plain": [
       "array([ 1., nan,  3.,  4.])"
      ]
     },
     "execution_count": 11,
     "metadata": {},
     "output_type": "execute_result"
    }
   ],
   "source": [
    "# The other missing data represntation, NaN (acronym for not a number). It is special floating point value\n",
    "# recognized by all systems that use the IEEE floating point representation.\n",
    "\n",
    "vals2 = np.array([1, np.nan, 3,4])\n",
    "vals2"
   ]
  },
  {
   "cell_type": "code",
   "execution_count": 12,
   "id": "e57299e9",
   "metadata": {},
   "outputs": [
    {
     "data": {
      "text/plain": [
       "dtype('float64')"
      ]
     },
     "execution_count": 12,
     "metadata": {},
     "output_type": "execute_result"
    }
   ],
   "source": [
    "vals2.dtype"
   ]
  },
  {
   "cell_type": "code",
   "execution_count": 13,
   "id": "56082215",
   "metadata": {},
   "outputs": [
    {
     "data": {
      "text/plain": [
       "nan"
      ]
     },
     "execution_count": 13,
     "metadata": {},
     "output_type": "execute_result"
    }
   ],
   "source": [
    "# NaN is bit like a data virus - it infects any other object it touches. Regardless of the operation, the result \n",
    "# of arithmetic with NaN would be another NaN\n",
    "1 + np.nan"
   ]
  },
  {
   "cell_type": "code",
   "execution_count": 14,
   "id": "bb60d200",
   "metadata": {},
   "outputs": [
    {
     "data": {
      "text/plain": [
       "nan"
      ]
     },
     "execution_count": 14,
     "metadata": {},
     "output_type": "execute_result"
    }
   ],
   "source": [
    "0 * np.nan"
   ]
  },
  {
   "cell_type": "code",
   "execution_count": 16,
   "id": "abc71c0a",
   "metadata": {},
   "outputs": [
    {
     "data": {
      "text/plain": [
       "(nan, nan, nan)"
      ]
     },
     "execution_count": 16,
     "metadata": {},
     "output_type": "execute_result"
    }
   ],
   "source": [
    "# This means that aggregates over the values are well defined that is they don't result in an error \n",
    "# but not always useful\n",
    "vals2.sum(), vals2.min(), vals2.max()"
   ]
  },
  {
   "cell_type": "code",
   "execution_count": 17,
   "id": "968723aa",
   "metadata": {},
   "outputs": [
    {
     "data": {
      "text/plain": [
       "(8.0, 1.0, 4.0)"
      ]
     },
     "execution_count": 17,
     "metadata": {},
     "output_type": "execute_result"
    }
   ],
   "source": [
    "# Numpy does provide some special aggregations that will ignore these missing values\n",
    "np.nansum(vals2), np.nanmin(vals2), np.nanmax(vals2)"
   ]
  },
  {
   "cell_type": "code",
   "execution_count": 18,
   "id": "7fbdad4f",
   "metadata": {},
   "outputs": [],
   "source": [
    "# Keep in mind that NaN is specifically a floating-point value, there is no equivalent NaN value for intergers,\n",
    "# strings or other types"
   ]
  },
  {
   "cell_type": "markdown",
   "id": "2c7f36d0",
   "metadata": {},
   "source": [
    "<h4>NaN and None in Pandas</h4>"
   ]
  },
  {
   "cell_type": "code",
   "execution_count": 20,
   "id": "2e46a27a",
   "metadata": {},
   "outputs": [
    {
     "data": {
      "text/plain": [
       "0    1.0\n",
       "1    NaN\n",
       "2    2.0\n",
       "3    NaN\n",
       "dtype: float64"
      ]
     },
     "execution_count": 20,
     "metadata": {},
     "output_type": "execute_result"
    }
   ],
   "source": [
    "# NaN and None both have their place and Pandas is built to handle thw two of them nearly interchangeably,\n",
    "# converting between them where appropriate:\n",
    "pd.Series([1, np.nan, 2, None])"
   ]
  },
  {
   "cell_type": "code",
   "execution_count": 21,
   "id": "012f331a",
   "metadata": {},
   "outputs": [
    {
     "data": {
      "text/plain": [
       "0    0\n",
       "1    1\n",
       "dtype: int64"
      ]
     },
     "execution_count": 21,
     "metadata": {},
     "output_type": "execute_result"
    }
   ],
   "source": [
    "# For types that don't have an available sentinel value, Pandas automatically type casts when NA values are \n",
    "# present\n",
    "x = pd.Series(range(2), dtype=int)\n",
    "x"
   ]
  },
  {
   "cell_type": "code",
   "execution_count": 22,
   "id": "401469a8",
   "metadata": {},
   "outputs": [
    {
     "data": {
      "text/plain": [
       "0    NaN\n",
       "1    1.0\n",
       "dtype: float64"
      ]
     },
     "execution_count": 22,
     "metadata": {},
     "output_type": "execute_result"
    }
   ],
   "source": [
    "x[0] = None\n",
    "x"
   ]
  },
  {
   "cell_type": "code",
   "execution_count": 23,
   "id": "c86829d6",
   "metadata": {},
   "outputs": [],
   "source": [
    "# Pandas automatically converts the None and NaN value. \n",
    "# In Pandas, string data is always stored with an object type."
   ]
  },
  {
   "cell_type": "markdown",
   "id": "dd1453f1",
   "metadata": {},
   "source": [
    "<h3>Operating on Null Values</h3>"
   ]
  },
  {
   "cell_type": "code",
   "execution_count": 24,
   "id": "0647e51c",
   "metadata": {},
   "outputs": [],
   "source": [
    "# Pandas treats None and NaN as essentially interchangeable for indicating missing or null values. \n",
    "# To facilitate this convention, there are several useful methods for detecting, removing, and replacing\n",
    "# null values in Pandas data structures. \n",
    "\n",
    "# isnull() : Generate a Boolean mask indicating missing values\n",
    "# notnull(): Opposite of isnull()\n",
    "# dropna() : Return a filtered version of the data\n",
    "# fillna() : Return a copy of the data with missing values filled or imputed. "
   ]
  },
  {
   "cell_type": "markdown",
   "id": "bb9b8e64",
   "metadata": {},
   "source": [
    "<h4>Detecting null values</h4>"
   ]
  },
  {
   "cell_type": "code",
   "execution_count": 25,
   "id": "19893bb0",
   "metadata": {},
   "outputs": [
    {
     "data": {
      "text/plain": [
       "0        1\n",
       "1      NaN\n",
       "2    hello\n",
       "3     None\n",
       "dtype: object"
      ]
     },
     "execution_count": 25,
     "metadata": {},
     "output_type": "execute_result"
    }
   ],
   "source": [
    "# Pandas Data Structures have two useful methods for detecting null data: isnull() and notnull().\n",
    "# Either one will return a Boolean mask over the data. \n",
    "\n",
    "data = pd.Series([1,np.nan,\"hello\",None])\n",
    "data"
   ]
  },
  {
   "cell_type": "code",
   "execution_count": 27,
   "id": "41b4babc",
   "metadata": {},
   "outputs": [
    {
     "data": {
      "text/plain": [
       "0    False\n",
       "1     True\n",
       "2    False\n",
       "3     True\n",
       "dtype: bool"
      ]
     },
     "execution_count": 27,
     "metadata": {},
     "output_type": "execute_result"
    }
   ],
   "source": [
    "data.isnull()"
   ]
  },
  {
   "cell_type": "code",
   "execution_count": 28,
   "id": "6109d953",
   "metadata": {},
   "outputs": [
    {
     "data": {
      "text/plain": [
       "0        1\n",
       "2    hello\n",
       "dtype: object"
      ]
     },
     "execution_count": 28,
     "metadata": {},
     "output_type": "execute_result"
    }
   ],
   "source": [
    "data[data.notnull()]"
   ]
  },
  {
   "cell_type": "code",
   "execution_count": 29,
   "id": "bdbcf237",
   "metadata": {},
   "outputs": [],
   "source": [
    "# The isnull() and notnull() methods produce similar Boolean results for Data Frames. "
   ]
  },
  {
   "cell_type": "markdown",
   "id": "b5c99e98",
   "metadata": {},
   "source": [
    "<h4>Dropping Null values</h4>"
   ]
  },
  {
   "cell_type": "code",
   "execution_count": 30,
   "id": "eaedd740",
   "metadata": {},
   "outputs": [
    {
     "data": {
      "text/plain": [
       "0        1\n",
       "2    hello\n",
       "dtype: object"
      ]
     },
     "execution_count": 30,
     "metadata": {},
     "output_type": "execute_result"
    }
   ],
   "source": [
    "# Use of convenience methods dropna() and fillna()\n",
    "\n",
    "data.dropna()"
   ]
  },
  {
   "cell_type": "code",
   "execution_count": 32,
   "id": "1f79ce47",
   "metadata": {},
   "outputs": [
    {
     "data": {
      "text/plain": [
       "0        1\n",
       "1        0\n",
       "2    hello\n",
       "3        0\n",
       "dtype: object"
      ]
     },
     "execution_count": 32,
     "metadata": {},
     "output_type": "execute_result"
    }
   ],
   "source": [
    "data.fillna(0)"
   ]
  },
  {
   "cell_type": "code",
   "execution_count": 40,
   "id": "88ccdf07",
   "metadata": {},
   "outputs": [
    {
     "name": "stdout",
     "output_type": "stream",
     "text": [
      "Unexpected exception formatting exception. Falling back to standard exception\n"
     ]
    },
    {
     "name": "stderr",
     "output_type": "stream",
     "text": [
      "Traceback (most recent call last):\n",
      "  File \"/Users/awaneeshtiwari/anaconda3/lib/python3.10/site-packages/IPython/core/interactiveshell.py\", line 3460, in run_code\n",
      "  File \"/var/folders/c8/z4lh2j2s5kq5jvv28mrv0rw40000gn/T/ipykernel_95111/3905829358.py\", line 2, in <module>\n",
      "    df = pd.Dataframe([ [1, np.nan, 2],\n",
      "  File \"/Users/awaneeshtiwari/anaconda3/lib/python3.10/site-packages/pandas/__init__.py\", line 264, in __getattr__\n",
      "AttributeError: module 'pandas' has no attribute 'Dataframe'\n",
      "\n",
      "During handling of the above exception, another exception occurred:\n",
      "\n",
      "Traceback (most recent call last):\n",
      "  File \"/Users/awaneeshtiwari/anaconda3/lib/python3.10/site-packages/pygments/styles/__init__.py\", line 78, in get_style_by_name\n",
      "ModuleNotFoundError: No module named 'pygments.styles.default'\n",
      "\n",
      "During handling of the above exception, another exception occurred:\n",
      "\n",
      "Traceback (most recent call last):\n",
      "  File \"/Users/awaneeshtiwari/anaconda3/lib/python3.10/site-packages/IPython/core/interactiveshell.py\", line 2057, in showtraceback\n",
      "  File \"/Users/awaneeshtiwari/anaconda3/lib/python3.10/site-packages/IPython/core/ultratb.py\", line 1118, in structured_traceback\n",
      "  File \"/Users/awaneeshtiwari/anaconda3/lib/python3.10/site-packages/IPython/core/ultratb.py\", line 1012, in structured_traceback\n",
      "  File \"/Users/awaneeshtiwari/anaconda3/lib/python3.10/site-packages/IPython/core/ultratb.py\", line 865, in structured_traceback\n",
      "  File \"/Users/awaneeshtiwari/anaconda3/lib/python3.10/site-packages/IPython/core/ultratb.py\", line 799, in format_exception_as_a_whole\n",
      "  File \"/Users/awaneeshtiwari/anaconda3/lib/python3.10/site-packages/IPython/core/ultratb.py\", line 844, in get_records\n",
      "  File \"/Users/awaneeshtiwari/anaconda3/lib/python3.10/site-packages/pygments/styles/__init__.py\", line 80, in get_style_by_name\n",
      "pygments.util.ClassNotFound: Could not find style module 'default', though it should be builtin.\n"
     ]
    }
   ],
   "source": [
    "# For a dataframe there are more options:\n",
    "df = pd.Dataframe([ [1, np.nan, 2],\n",
    "                    [2, 3, 5],\n",
    "                    [np.nan, 4, 6]])\n",
    "df.dropna()"
   ]
  },
  {
   "cell_type": "markdown",
   "id": "cb153464",
   "metadata": {},
   "source": [
    "<h4>Filling Null Values</h4>"
   ]
  },
  {
   "cell_type": "code",
   "execution_count": 36,
   "id": "f3f9e5e4",
   "metadata": {},
   "outputs": [
    {
     "data": {
      "text/plain": [
       "a    1.0\n",
       "b    NaN\n",
       "c    2.0\n",
       "d    NaN\n",
       "e    3.0\n",
       "dtype: float64"
      ]
     },
     "execution_count": 36,
     "metadata": {},
     "output_type": "execute_result"
    }
   ],
   "source": [
    "# Consider the following series:\n",
    "data = pd.Series([1, np.nan, 2, None, 3], index = list(\"abcde\"))\n",
    "data"
   ]
  },
  {
   "cell_type": "code",
   "execution_count": 37,
   "id": "1c6591b5",
   "metadata": {},
   "outputs": [
    {
     "data": {
      "text/plain": [
       "a    1.0\n",
       "b    0.0\n",
       "c    2.0\n",
       "d    0.0\n",
       "e    3.0\n",
       "dtype: float64"
      ]
     },
     "execution_count": 37,
     "metadata": {},
     "output_type": "execute_result"
    }
   ],
   "source": [
    "# NA values can be filled with 0s\n",
    "data.fillna(0)"
   ]
  },
  {
   "cell_type": "code",
   "execution_count": 38,
   "id": "be82abbe",
   "metadata": {},
   "outputs": [
    {
     "data": {
      "text/plain": [
       "a    1.0\n",
       "b    1.0\n",
       "c    2.0\n",
       "d    2.0\n",
       "e    3.0\n",
       "dtype: float64"
      ]
     },
     "execution_count": 38,
     "metadata": {},
     "output_type": "execute_result"
    }
   ],
   "source": [
    "# Specify a forward-fill to propagate the previous value forward\n",
    "data.fillna(method=\"ffill\")"
   ]
  },
  {
   "cell_type": "code",
   "execution_count": 39,
   "id": "3ff56ade",
   "metadata": {},
   "outputs": [
    {
     "data": {
      "text/plain": [
       "a    1.0\n",
       "b    2.0\n",
       "c    2.0\n",
       "d    3.0\n",
       "e    3.0\n",
       "dtype: float64"
      ]
     },
     "execution_count": 39,
     "metadata": {},
     "output_type": "execute_result"
    }
   ],
   "source": [
    "# Specify a backward-fill to propagate the values backward\n",
    "data.fillna(method=\"bfill\")"
   ]
  },
  {
   "cell_type": "code",
   "execution_count": 41,
   "id": "666d48bd",
   "metadata": {},
   "outputs": [],
   "source": [
    "# If previous value is not available during a forward fill, the NA value remains."
   ]
  },
  {
   "cell_type": "code",
   "execution_count": null,
   "id": "76f80acf",
   "metadata": {},
   "outputs": [],
   "source": []
  }
 ],
 "metadata": {
  "kernelspec": {
   "display_name": "Python 3 (ipykernel)",
   "language": "python",
   "name": "python3"
  },
  "language_info": {
   "codemirror_mode": {
    "name": "ipython",
    "version": 3
   },
   "file_extension": ".py",
   "mimetype": "text/x-python",
   "name": "python",
   "nbconvert_exporter": "python",
   "pygments_lexer": "ipython3",
   "version": "3.10.9"
  }
 },
 "nbformat": 4,
 "nbformat_minor": 5
}
