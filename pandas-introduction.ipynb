{
 "cells": [
  {
   "cell_type": "markdown",
   "id": "275c04a0",
   "metadata": {},
   "source": [
    "<h1>Data Manipulation using Pandas</h1>"
   ]
  },
  {
   "cell_type": "code",
   "execution_count": 1,
   "id": "529f2a65",
   "metadata": {},
   "outputs": [
    {
     "data": {
      "text/plain": [
       "'1.5.3'"
      ]
     },
     "execution_count": 1,
     "metadata": {},
     "output_type": "execute_result"
    }
   ],
   "source": [
    "# Pandas is a package built on top of Numpy and provides an efficient implementation of a Dataframe.\n",
    "\n",
    "# Dataframes are multidimensional arrays with attached rows and column labels, and often with heterogeneous type\n",
    "# and or missing data. \n",
    "\n",
    "# Pandas implements a number of powerful data operations familiar to users of both database frameworks and \n",
    "# spreadsheet programs.\n",
    "\n",
    "# Pandas and in particular its Series and DataFrame objects, builds on Numpy array structure and provides efficient\n",
    "# access to \"data munging\" tasks that occupy much of data scientist's time. \n",
    "\n",
    "# Import pandas and check version\n",
    "import pandas\n",
    "pandas.__version__"
   ]
  },
  {
   "cell_type": "code",
   "execution_count": 2,
   "id": "0f9c469c",
   "metadata": {},
   "outputs": [],
   "source": [
    "# Alias for pandas import is pd\n",
    "import pandas as pd"
   ]
  },
  {
   "cell_type": "code",
   "execution_count": 3,
   "id": "d9fda032",
   "metadata": {},
   "outputs": [],
   "source": [
    "# To display all contents of pandas namespace we can use pd.<TAB>"
   ]
  },
  {
   "cell_type": "code",
   "execution_count": 4,
   "id": "e3e35198",
   "metadata": {},
   "outputs": [],
   "source": [
    "# To display built-in documnetation, we can leverage:\n",
    "pd?"
   ]
  },
  {
   "cell_type": "markdown",
   "id": "c678bfc2",
   "metadata": {},
   "source": [
    "<h3>Introducing Pandas Objects</h3>"
   ]
  },
  {
   "cell_type": "code",
   "execution_count": 5,
   "id": "964628e8",
   "metadata": {},
   "outputs": [],
   "source": [
    "# Pandas objects can be thought of as enhanced versions of NumPy structured arrays in which the rows and\n",
    "# columns are identified with labels rather than simple integer indices. \n",
    "\n",
    "# Import both numpy and pandas\n",
    "import numpy as np\n",
    "import pandas as pd"
   ]
  },
  {
   "cell_type": "markdown",
   "id": "665805ce",
   "metadata": {},
   "source": [
    "<h4>The Panda Series object</h4>"
   ]
  },
  {
   "cell_type": "code",
   "execution_count": 6,
   "id": "65a72705",
   "metadata": {},
   "outputs": [
    {
     "data": {
      "text/plain": [
       "0    0.25\n",
       "1    0.50\n",
       "2    0.75\n",
       "3    1.00\n",
       "dtype: float64"
      ]
     },
     "execution_count": 6,
     "metadata": {},
     "output_type": "execute_result"
    }
   ],
   "source": [
    "# A panda series is a one dimensional array of indexed data. It can be created from the array or list as follows:\n",
    "data = pd.Series([0.25,0.5,0.75,1.0])\n",
    "data"
   ]
  },
  {
   "cell_type": "code",
   "execution_count": 7,
   "id": "82403e0f",
   "metadata": {},
   "outputs": [
    {
     "data": {
      "text/plain": [
       "array([0.25, 0.5 , 0.75, 1.  ])"
      ]
     },
     "execution_count": 7,
     "metadata": {},
     "output_type": "execute_result"
    }
   ],
   "source": [
    "# The values are simply numpy arrays\n",
    "data.values"
   ]
  },
  {
   "cell_type": "code",
   "execution_count": 8,
   "id": "4534ecc0",
   "metadata": {},
   "outputs": [
    {
     "data": {
      "text/plain": [
       "RangeIndex(start=0, stop=4, step=1)"
      ]
     },
     "execution_count": 8,
     "metadata": {},
     "output_type": "execute_result"
    }
   ],
   "source": [
    "# The index is an array like object of type pd.Index\n",
    "data.index"
   ]
  },
  {
   "cell_type": "code",
   "execution_count": 9,
   "id": "3c263cb1",
   "metadata": {},
   "outputs": [
    {
     "data": {
      "text/plain": [
       "0.5"
      ]
     },
     "execution_count": 9,
     "metadata": {},
     "output_type": "execute_result"
    }
   ],
   "source": [
    "# Data can be accessed by the associated index via the square bracket notation\n",
    "data[1]"
   ]
  },
  {
   "cell_type": "code",
   "execution_count": 10,
   "id": "70f4da8b",
   "metadata": {},
   "outputs": [
    {
     "data": {
      "text/plain": [
       "1    0.50\n",
       "2    0.75\n",
       "dtype: float64"
      ]
     },
     "execution_count": 10,
     "metadata": {},
     "output_type": "execute_result"
    }
   ],
   "source": [
    "data[1:3]"
   ]
  },
  {
   "cell_type": "markdown",
   "id": "d854c8f5",
   "metadata": {},
   "source": [
    "<h5>Series as generalized NumPy Array</h5>"
   ]
  },
  {
   "cell_type": "code",
   "execution_count": 11,
   "id": "b0b8972e",
   "metadata": {},
   "outputs": [
    {
     "data": {
      "text/plain": [
       "a    0.25\n",
       "b    0.50\n",
       "c    0.75\n",
       "d    1.00\n",
       "dtype: float64"
      ]
     },
     "execution_count": 11,
     "metadata": {},
     "output_type": "execute_result"
    }
   ],
   "source": [
    "# The NumPy array has an implicitly defined integer index used to access the values, the Pandas Series has \n",
    "# an explicitly defined index associated with the values\n",
    "# This explicit index definition gives the Series object additional capabilities\n",
    "\n",
    "# Example: Index need not be an integer but can consist of values of any desired type\n",
    "data = pd.Series([0.25,0.50,0.75,1.0], index=[\"a\",\"b\",\"c\",\"d\"])\n",
    "data"
   ]
  },
  {
   "cell_type": "code",
   "execution_count": 12,
   "id": "4f813859",
   "metadata": {},
   "outputs": [
    {
     "data": {
      "text/plain": [
       "0.5"
      ]
     },
     "execution_count": 12,
     "metadata": {},
     "output_type": "execute_result"
    }
   ],
   "source": [
    "# Item access will work as:\n",
    "data[\"b\"]"
   ]
  },
  {
   "cell_type": "code",
   "execution_count": 13,
   "id": "27f52151",
   "metadata": {},
   "outputs": [
    {
     "data": {
      "text/plain": [
       "2    0.25\n",
       "5    0.50\n",
       "3    0.75\n",
       "7    1.00\n",
       "dtype: float64"
      ]
     },
     "execution_count": 13,
     "metadata": {},
     "output_type": "execute_result"
    }
   ],
   "source": [
    "# We can even use non-Contiguous or non-sequential indices. \n",
    "data = pd.Series([0.25, 0.50, 0.75, 1.0], index=[\"2\",\"5\",\"3\",\"7\"])\n",
    "data"
   ]
  },
  {
   "cell_type": "code",
   "execution_count": 15,
   "id": "306dd2ff",
   "metadata": {},
   "outputs": [
    {
     "data": {
      "text/plain": [
       "0.5"
      ]
     },
     "execution_count": 15,
     "metadata": {},
     "output_type": "execute_result"
    }
   ],
   "source": [
    "# Item access will work as:\n",
    "data[\"5\"]"
   ]
  },
  {
   "cell_type": "markdown",
   "id": "deece62c",
   "metadata": {},
   "source": [
    "<h5>Series as specialized dictionary</h5>"
   ]
  },
  {
   "cell_type": "code",
   "execution_count": 29,
   "id": "c7e11b9d",
   "metadata": {},
   "outputs": [
    {
     "data": {
      "text/plain": [
       "California    38222521\n",
       "Texas         26448193\n",
       "New York      19651127\n",
       "Florida       19552860\n",
       "Illinois      12882135\n",
       "dtype: int64"
      ]
     },
     "execution_count": 29,
     "metadata": {},
     "output_type": "execute_result"
    }
   ],
   "source": [
    "# A dictionary is a structure that maps arbitrary keys to a set of arbitrary values, and a Series is a structure\n",
    "# that maps typed keys to a set of typed values\n",
    "\n",
    "# The type information of Pandas Series is more efficient that an Python list for certain operations.\n",
    "# Series object directly from Python Dictionary\n",
    "\n",
    "population_dict = {\n",
    "    \"California\":38222521,\n",
    "    \"Texas\":26448193,\n",
    "    \"New York\": 19651127,\n",
    "    \"Florida\": 19552860,\n",
    "    \"Illinois\": 12882135\n",
    "}\n",
    "\n",
    "population = pd.Series(population_dict)\n",
    "population"
   ]
  },
  {
   "cell_type": "code",
   "execution_count": 17,
   "id": "fa3e3839",
   "metadata": {},
   "outputs": [
    {
     "data": {
      "text/plain": [
       "38222521"
      ]
     },
     "execution_count": 17,
     "metadata": {},
     "output_type": "execute_result"
    }
   ],
   "source": [
    "population[\"California\"]"
   ]
  },
  {
   "cell_type": "code",
   "execution_count": 30,
   "id": "f02ffcb1",
   "metadata": {},
   "outputs": [
    {
     "data": {
      "text/plain": [
       "California    38222521\n",
       "Texas         26448193\n",
       "New York      19651127\n",
       "Florida       19552860\n",
       "Illinois      12882135\n",
       "dtype: int64"
      ]
     },
     "execution_count": 30,
     "metadata": {},
     "output_type": "execute_result"
    }
   ],
   "source": [
    "# Series also supports array-style operatons suhc as slicing\n",
    "population[\"California\":\"Illinois\"]"
   ]
  },
  {
   "cell_type": "markdown",
   "id": "41ffcdd7",
   "metadata": {},
   "source": [
    "<h5>Constructing Series Objects</h5>"
   ]
  },
  {
   "cell_type": "code",
   "execution_count": 19,
   "id": "36ecdda4",
   "metadata": {},
   "outputs": [
    {
     "data": {
      "text/plain": [
       "0    2\n",
       "1    4\n",
       "2    6\n",
       "dtype: int64"
      ]
     },
     "execution_count": 19,
     "metadata": {},
     "output_type": "execute_result"
    }
   ],
   "source": [
    "# Index defaulting to integer with numpy array as argument\n",
    "pd.Series([2,4,6])"
   ]
  },
  {
   "cell_type": "code",
   "execution_count": 20,
   "id": "fc4e6357",
   "metadata": {},
   "outputs": [
    {
     "data": {
      "text/plain": [
       "100    5\n",
       "200    5\n",
       "300    5\n",
       "dtype: int64"
      ]
     },
     "execution_count": 20,
     "metadata": {},
     "output_type": "execute_result"
    }
   ],
   "source": [
    "# Data can be scalar which is repeated to fill the specified index\n",
    "pd.Series(5, index=[100,200,300])"
   ]
  },
  {
   "cell_type": "code",
   "execution_count": 21,
   "id": "3b1e5376",
   "metadata": {},
   "outputs": [
    {
     "data": {
      "text/plain": [
       "2    a\n",
       "1    b\n",
       "3    c\n",
       "dtype: object"
      ]
     },
     "execution_count": 21,
     "metadata": {},
     "output_type": "execute_result"
    }
   ],
   "source": [
    "# Data can be a dictionary in which index defaults to the sorted dictionary keys\n",
    "pd.Series({2:\"a\",1:\"b\",3:\"c\"})"
   ]
  },
  {
   "cell_type": "code",
   "execution_count": 22,
   "id": "e6b7d7f4",
   "metadata": {},
   "outputs": [
    {
     "data": {
      "text/plain": [
       "3    c\n",
       "2    a\n",
       "dtype: object"
      ]
     },
     "execution_count": 22,
     "metadata": {},
     "output_type": "execute_result"
    }
   ],
   "source": [
    "# The index can be explicitly set if a different result is preferred. \n",
    "pd.Series({2:\"a\",1:\"b\",3:\"c\"},index=[3,2])"
   ]
  },
  {
   "cell_type": "markdown",
   "id": "e04125b5",
   "metadata": {},
   "source": [
    "<h4>Pandas DataFrame Object</h4>"
   ]
  },
  {
   "cell_type": "code",
   "execution_count": 23,
   "id": "3c5e61c2",
   "metadata": {},
   "outputs": [],
   "source": [
    "# DataFrame can be thought of either as generalization of a NumPy array, or as a specialization of Python\n",
    "# dictionary. "
   ]
  },
  {
   "cell_type": "markdown",
   "id": "791e2a01",
   "metadata": {},
   "source": [
    "<h5>Dataframe as a generalized NumPy array</h5>"
   ]
  },
  {
   "cell_type": "code",
   "execution_count": 27,
   "id": "0dccf64b",
   "metadata": {},
   "outputs": [
    {
     "data": {
      "text/plain": [
       "California    423967\n",
       "Texas         695662\n",
       "New York      141297\n",
       "Florida       170312\n",
       "Illinois      149995\n",
       "dtype: int64"
      ]
     },
     "execution_count": 27,
     "metadata": {},
     "output_type": "execute_result"
    }
   ],
   "source": [
    "# A dataframe is an anlog of a two-dimensional array with both flexible indices and flexible column names \n",
    "# A dataframe can be thought of as alighned sequence of Series Objects, that is sharing the same index.\n",
    "\n",
    "area_dict = {\"California\": 423967, \"Texas\":695662,\"New York\":141297,\"Florida\":170312,\"Illinois\":149995}\n",
    "area = pd.Series(area_dict)\n",
    "area"
   ]
  },
  {
   "cell_type": "code",
   "execution_count": 31,
   "id": "f51570b8",
   "metadata": {},
   "outputs": [
    {
     "data": {
      "text/html": [
       "<div>\n",
       "<style scoped>\n",
       "    .dataframe tbody tr th:only-of-type {\n",
       "        vertical-align: middle;\n",
       "    }\n",
       "\n",
       "    .dataframe tbody tr th {\n",
       "        vertical-align: top;\n",
       "    }\n",
       "\n",
       "    .dataframe thead th {\n",
       "        text-align: right;\n",
       "    }\n",
       "</style>\n",
       "<table border=\"1\" class=\"dataframe\">\n",
       "  <thead>\n",
       "    <tr style=\"text-align: right;\">\n",
       "      <th></th>\n",
       "      <th>population</th>\n",
       "      <th>area</th>\n",
       "    </tr>\n",
       "  </thead>\n",
       "  <tbody>\n",
       "    <tr>\n",
       "      <th>California</th>\n",
       "      <td>38222521</td>\n",
       "      <td>423967</td>\n",
       "    </tr>\n",
       "    <tr>\n",
       "      <th>Texas</th>\n",
       "      <td>26448193</td>\n",
       "      <td>695662</td>\n",
       "    </tr>\n",
       "    <tr>\n",
       "      <th>New York</th>\n",
       "      <td>19651127</td>\n",
       "      <td>141297</td>\n",
       "    </tr>\n",
       "    <tr>\n",
       "      <th>Florida</th>\n",
       "      <td>19552860</td>\n",
       "      <td>170312</td>\n",
       "    </tr>\n",
       "    <tr>\n",
       "      <th>Illinois</th>\n",
       "      <td>12882135</td>\n",
       "      <td>149995</td>\n",
       "    </tr>\n",
       "  </tbody>\n",
       "</table>\n",
       "</div>"
      ],
      "text/plain": [
       "            population    area\n",
       "California    38222521  423967\n",
       "Texas         26448193  695662\n",
       "New York      19651127  141297\n",
       "Florida       19552860  170312\n",
       "Illinois      12882135  149995"
      ]
     },
     "execution_count": 31,
     "metadata": {},
     "output_type": "execute_result"
    }
   ],
   "source": [
    "states = pd.DataFrame({\"population\":population, \"area\":area})\n",
    "states"
   ]
  },
  {
   "cell_type": "code",
   "execution_count": 32,
   "id": "b222e256",
   "metadata": {},
   "outputs": [
    {
     "data": {
      "text/plain": [
       "Index(['California', 'Texas', 'New York', 'Florida', 'Illinois'], dtype='object')"
      ]
     },
     "execution_count": 32,
     "metadata": {},
     "output_type": "execute_result"
    }
   ],
   "source": [
    "# Dataframe has an index attribute that gives access to the index labels\n",
    "states.index"
   ]
  },
  {
   "cell_type": "code",
   "execution_count": 33,
   "id": "54e02d01",
   "metadata": {},
   "outputs": [
    {
     "data": {
      "text/plain": [
       "Index(['population', 'area'], dtype='object')"
      ]
     },
     "execution_count": 33,
     "metadata": {},
     "output_type": "execute_result"
    }
   ],
   "source": [
    "# Dataframe has a columns attribute which is an index object holding the column labels.\n",
    "states.columns"
   ]
  },
  {
   "cell_type": "markdown",
   "id": "72c3942a",
   "metadata": {},
   "source": [
    "<h5>Dataframe as specialized Dictionary</h5>"
   ]
  },
  {
   "cell_type": "code",
   "execution_count": 34,
   "id": "c1fe11d2",
   "metadata": {},
   "outputs": [
    {
     "data": {
      "text/plain": [
       "California    423967\n",
       "Texas         695662\n",
       "New York      141297\n",
       "Florida       170312\n",
       "Illinois      149995\n",
       "Name: area, dtype: int64"
      ]
     },
     "execution_count": 34,
     "metadata": {},
     "output_type": "execute_result"
    }
   ],
   "source": [
    "# Dataframe can be thought of as specialization of a dictionary. A Dataframe maps a column name to Series of \n",
    "# column data. \n",
    "states[\"area\"]"
   ]
  },
  {
   "cell_type": "markdown",
   "id": "97be6337",
   "metadata": {},
   "source": [
    "<h5>Constructing Dataframe objects</h5>"
   ]
  },
  {
   "cell_type": "code",
   "execution_count": 36,
   "id": "3c23fec4",
   "metadata": {},
   "outputs": [
    {
     "data": {
      "text/html": [
       "<div>\n",
       "<style scoped>\n",
       "    .dataframe tbody tr th:only-of-type {\n",
       "        vertical-align: middle;\n",
       "    }\n",
       "\n",
       "    .dataframe tbody tr th {\n",
       "        vertical-align: top;\n",
       "    }\n",
       "\n",
       "    .dataframe thead th {\n",
       "        text-align: right;\n",
       "    }\n",
       "</style>\n",
       "<table border=\"1\" class=\"dataframe\">\n",
       "  <thead>\n",
       "    <tr style=\"text-align: right;\">\n",
       "      <th></th>\n",
       "      <th>population</th>\n",
       "    </tr>\n",
       "  </thead>\n",
       "  <tbody>\n",
       "    <tr>\n",
       "      <th>California</th>\n",
       "      <td>38222521</td>\n",
       "    </tr>\n",
       "    <tr>\n",
       "      <th>Texas</th>\n",
       "      <td>26448193</td>\n",
       "    </tr>\n",
       "    <tr>\n",
       "      <th>New York</th>\n",
       "      <td>19651127</td>\n",
       "    </tr>\n",
       "    <tr>\n",
       "      <th>Florida</th>\n",
       "      <td>19552860</td>\n",
       "    </tr>\n",
       "    <tr>\n",
       "      <th>Illinois</th>\n",
       "      <td>12882135</td>\n",
       "    </tr>\n",
       "  </tbody>\n",
       "</table>\n",
       "</div>"
      ],
      "text/plain": [
       "            population\n",
       "California    38222521\n",
       "Texas         26448193\n",
       "New York      19651127\n",
       "Florida       19552860\n",
       "Illinois      12882135"
      ]
     },
     "execution_count": 36,
     "metadata": {},
     "output_type": "execute_result"
    }
   ],
   "source": [
    "# From a single Series Object: A DataFrame is a collection of Series Objects and a single column DataFrame can be\n",
    "# constructed from a single Series:\n",
    "pd.DataFrame(population, columns=[\"population\"])"
   ]
  },
  {
   "cell_type": "markdown",
   "id": "9083f5db",
   "metadata": {},
   "source": [
    "<h5>From a list of dicts</h5>"
   ]
  },
  {
   "cell_type": "code",
   "execution_count": 37,
   "id": "86b0ea59",
   "metadata": {},
   "outputs": [
    {
     "data": {
      "text/html": [
       "<div>\n",
       "<style scoped>\n",
       "    .dataframe tbody tr th:only-of-type {\n",
       "        vertical-align: middle;\n",
       "    }\n",
       "\n",
       "    .dataframe tbody tr th {\n",
       "        vertical-align: top;\n",
       "    }\n",
       "\n",
       "    .dataframe thead th {\n",
       "        text-align: right;\n",
       "    }\n",
       "</style>\n",
       "<table border=\"1\" class=\"dataframe\">\n",
       "  <thead>\n",
       "    <tr style=\"text-align: right;\">\n",
       "      <th></th>\n",
       "      <th>a</th>\n",
       "      <th>b</th>\n",
       "    </tr>\n",
       "  </thead>\n",
       "  <tbody>\n",
       "    <tr>\n",
       "      <th>0</th>\n",
       "      <td>0</td>\n",
       "      <td>0</td>\n",
       "    </tr>\n",
       "    <tr>\n",
       "      <th>1</th>\n",
       "      <td>1</td>\n",
       "      <td>2</td>\n",
       "    </tr>\n",
       "    <tr>\n",
       "      <th>2</th>\n",
       "      <td>2</td>\n",
       "      <td>4</td>\n",
       "    </tr>\n",
       "  </tbody>\n",
       "</table>\n",
       "</div>"
      ],
      "text/plain": [
       "   a  b\n",
       "0  0  0\n",
       "1  1  2\n",
       "2  2  4"
      ]
     },
     "execution_count": 37,
     "metadata": {},
     "output_type": "execute_result"
    }
   ],
   "source": [
    "# Any list of dictionaruies can be made into a DataFrame\n",
    "data = [{\"a\":i,\"b\":2*i}\n",
    "        for i in range(3)]\n",
    "pd.DataFrame(data)"
   ]
  },
  {
   "cell_type": "code",
   "execution_count": 38,
   "id": "184e56a0",
   "metadata": {},
   "outputs": [
    {
     "data": {
      "text/html": [
       "<div>\n",
       "<style scoped>\n",
       "    .dataframe tbody tr th:only-of-type {\n",
       "        vertical-align: middle;\n",
       "    }\n",
       "\n",
       "    .dataframe tbody tr th {\n",
       "        vertical-align: top;\n",
       "    }\n",
       "\n",
       "    .dataframe thead th {\n",
       "        text-align: right;\n",
       "    }\n",
       "</style>\n",
       "<table border=\"1\" class=\"dataframe\">\n",
       "  <thead>\n",
       "    <tr style=\"text-align: right;\">\n",
       "      <th></th>\n",
       "      <th>a</th>\n",
       "      <th>b</th>\n",
       "      <th>c</th>\n",
       "    </tr>\n",
       "  </thead>\n",
       "  <tbody>\n",
       "    <tr>\n",
       "      <th>0</th>\n",
       "      <td>1.0</td>\n",
       "      <td>2</td>\n",
       "      <td>NaN</td>\n",
       "    </tr>\n",
       "    <tr>\n",
       "      <th>1</th>\n",
       "      <td>NaN</td>\n",
       "      <td>3</td>\n",
       "      <td>4.0</td>\n",
       "    </tr>\n",
       "  </tbody>\n",
       "</table>\n",
       "</div>"
      ],
      "text/plain": [
       "     a  b    c\n",
       "0  1.0  2  NaN\n",
       "1  NaN  3  4.0"
      ]
     },
     "execution_count": 38,
     "metadata": {},
     "output_type": "execute_result"
    }
   ],
   "source": [
    "# Even if some keys are missing in the dictionary, pandas will fill them in with NaN values:\n",
    "pd.DataFrame([{\"a\":1,\"b\":2},{\"b\":3,\"c\":4}])"
   ]
  },
  {
   "cell_type": "markdown",
   "id": "27ad8be4",
   "metadata": {},
   "source": [
    "<h5>From Dictionary of Series Objects</h5>"
   ]
  },
  {
   "cell_type": "code",
   "execution_count": 39,
   "id": "e92b7059",
   "metadata": {},
   "outputs": [
    {
     "data": {
      "text/html": [
       "<div>\n",
       "<style scoped>\n",
       "    .dataframe tbody tr th:only-of-type {\n",
       "        vertical-align: middle;\n",
       "    }\n",
       "\n",
       "    .dataframe tbody tr th {\n",
       "        vertical-align: top;\n",
       "    }\n",
       "\n",
       "    .dataframe thead th {\n",
       "        text-align: right;\n",
       "    }\n",
       "</style>\n",
       "<table border=\"1\" class=\"dataframe\">\n",
       "  <thead>\n",
       "    <tr style=\"text-align: right;\">\n",
       "      <th></th>\n",
       "      <th>population</th>\n",
       "      <th>area</th>\n",
       "    </tr>\n",
       "  </thead>\n",
       "  <tbody>\n",
       "    <tr>\n",
       "      <th>California</th>\n",
       "      <td>38222521</td>\n",
       "      <td>423967</td>\n",
       "    </tr>\n",
       "    <tr>\n",
       "      <th>Texas</th>\n",
       "      <td>26448193</td>\n",
       "      <td>695662</td>\n",
       "    </tr>\n",
       "    <tr>\n",
       "      <th>New York</th>\n",
       "      <td>19651127</td>\n",
       "      <td>141297</td>\n",
       "    </tr>\n",
       "    <tr>\n",
       "      <th>Florida</th>\n",
       "      <td>19552860</td>\n",
       "      <td>170312</td>\n",
       "    </tr>\n",
       "    <tr>\n",
       "      <th>Illinois</th>\n",
       "      <td>12882135</td>\n",
       "      <td>149995</td>\n",
       "    </tr>\n",
       "  </tbody>\n",
       "</table>\n",
       "</div>"
      ],
      "text/plain": [
       "            population    area\n",
       "California    38222521  423967\n",
       "Texas         26448193  695662\n",
       "New York      19651127  141297\n",
       "Florida       19552860  170312\n",
       "Illinois      12882135  149995"
      ]
     },
     "execution_count": 39,
     "metadata": {},
     "output_type": "execute_result"
    }
   ],
   "source": [
    "# A Dataframe can be constructed using a dictionary of series objects:\n",
    "pd.DataFrame({\"population\":population,\"area\":area})"
   ]
  },
  {
   "cell_type": "markdown",
   "id": "fe3235ff",
   "metadata": {},
   "source": [
    "<h5>From two dimensional NumPy Array</h5>"
   ]
  },
  {
   "cell_type": "code",
   "execution_count": 40,
   "id": "b240386a",
   "metadata": {},
   "outputs": [
    {
     "data": {
      "text/html": [
       "<div>\n",
       "<style scoped>\n",
       "    .dataframe tbody tr th:only-of-type {\n",
       "        vertical-align: middle;\n",
       "    }\n",
       "\n",
       "    .dataframe tbody tr th {\n",
       "        vertical-align: top;\n",
       "    }\n",
       "\n",
       "    .dataframe thead th {\n",
       "        text-align: right;\n",
       "    }\n",
       "</style>\n",
       "<table border=\"1\" class=\"dataframe\">\n",
       "  <thead>\n",
       "    <tr style=\"text-align: right;\">\n",
       "      <th></th>\n",
       "      <th>foo</th>\n",
       "      <th>bar</th>\n",
       "    </tr>\n",
       "  </thead>\n",
       "  <tbody>\n",
       "    <tr>\n",
       "      <th>a</th>\n",
       "      <td>0.629916</td>\n",
       "      <td>0.568490</td>\n",
       "    </tr>\n",
       "    <tr>\n",
       "      <th>b</th>\n",
       "      <td>0.741269</td>\n",
       "      <td>0.874281</td>\n",
       "    </tr>\n",
       "    <tr>\n",
       "      <th>c</th>\n",
       "      <td>0.059463</td>\n",
       "      <td>0.537964</td>\n",
       "    </tr>\n",
       "  </tbody>\n",
       "</table>\n",
       "</div>"
      ],
      "text/plain": [
       "        foo       bar\n",
       "a  0.629916  0.568490\n",
       "b  0.741269  0.874281\n",
       "c  0.059463  0.537964"
      ]
     },
     "execution_count": 40,
     "metadata": {},
     "output_type": "execute_result"
    }
   ],
   "source": [
    "# Given a two dimensional array of data, we can create a DataFrame with any specified column and index names.\n",
    "pd.DataFrame(np.random.rand(3,2),\n",
    "             columns=[\"foo\",\"bar\"],\n",
    "             index=[\"a\",\"b\",\"c\"]\n",
    "            )"
   ]
  },
  {
   "cell_type": "markdown",
   "id": "8c1eb611",
   "metadata": {},
   "source": [
    "<h5>From a NumPy Structured Array</h5>"
   ]
  },
  {
   "cell_type": "code",
   "execution_count": 41,
   "id": "f59af709",
   "metadata": {},
   "outputs": [
    {
     "data": {
      "text/plain": [
       "array([(0, 0.), (0, 0.), (0, 0.)], dtype=[('A', '<i8'), ('B', '<f8')])"
      ]
     },
     "execution_count": 41,
     "metadata": {},
     "output_type": "execute_result"
    }
   ],
   "source": [
    "# A Pandas dataframe operates much like a structured Array and can be created directly from one\n",
    "A = np.zeros(3, dtype=[(\"A\",\"i8\"),(\"B\",\"f8\")])\n",
    "A"
   ]
  },
  {
   "cell_type": "code",
   "execution_count": 42,
   "id": "2a3bfbd9",
   "metadata": {},
   "outputs": [
    {
     "data": {
      "text/html": [
       "<div>\n",
       "<style scoped>\n",
       "    .dataframe tbody tr th:only-of-type {\n",
       "        vertical-align: middle;\n",
       "    }\n",
       "\n",
       "    .dataframe tbody tr th {\n",
       "        vertical-align: top;\n",
       "    }\n",
       "\n",
       "    .dataframe thead th {\n",
       "        text-align: right;\n",
       "    }\n",
       "</style>\n",
       "<table border=\"1\" class=\"dataframe\">\n",
       "  <thead>\n",
       "    <tr style=\"text-align: right;\">\n",
       "      <th></th>\n",
       "      <th>A</th>\n",
       "      <th>B</th>\n",
       "    </tr>\n",
       "  </thead>\n",
       "  <tbody>\n",
       "    <tr>\n",
       "      <th>0</th>\n",
       "      <td>0</td>\n",
       "      <td>0.0</td>\n",
       "    </tr>\n",
       "    <tr>\n",
       "      <th>1</th>\n",
       "      <td>0</td>\n",
       "      <td>0.0</td>\n",
       "    </tr>\n",
       "    <tr>\n",
       "      <th>2</th>\n",
       "      <td>0</td>\n",
       "      <td>0.0</td>\n",
       "    </tr>\n",
       "  </tbody>\n",
       "</table>\n",
       "</div>"
      ],
      "text/plain": [
       "   A    B\n",
       "0  0  0.0\n",
       "1  0  0.0\n",
       "2  0  0.0"
      ]
     },
     "execution_count": 42,
     "metadata": {},
     "output_type": "execute_result"
    }
   ],
   "source": [
    "# Create DataFrame\n",
    "pd.DataFrame(A)"
   ]
  },
  {
   "cell_type": "markdown",
   "id": "2e8f03b3",
   "metadata": {},
   "source": [
    "<h4>Pandas Index Object</h4>"
   ]
  },
  {
   "cell_type": "code",
   "execution_count": 43,
   "id": "f6ddae87",
   "metadata": {},
   "outputs": [
    {
     "data": {
      "text/plain": [
       "Int64Index([2, 3, 5, 7, 11], dtype='int64')"
      ]
     },
     "execution_count": 43,
     "metadata": {},
     "output_type": "execute_result"
    }
   ],
   "source": [
    "# Index Object is an interesting structure in itself and it can be thought of either as an immutable array\n",
    "# or as an ordered set\n",
    "\n",
    "# Index from a list of integers\n",
    "indices = pd.Index([2,3,5,7,11])\n",
    "indices"
   ]
  },
  {
   "cell_type": "markdown",
   "id": "e4485ddc",
   "metadata": {},
   "source": [
    "<h5>Index as Immutable Array</h5>"
   ]
  },
  {
   "cell_type": "code",
   "execution_count": 44,
   "id": "5f2f3713",
   "metadata": {},
   "outputs": [
    {
     "data": {
      "text/plain": [
       "3"
      ]
     },
     "execution_count": 44,
     "metadata": {},
     "output_type": "execute_result"
    }
   ],
   "source": [
    "# The index object operates like an array\n",
    "indices[1]"
   ]
  },
  {
   "cell_type": "code",
   "execution_count": 45,
   "id": "0cd44923",
   "metadata": {},
   "outputs": [
    {
     "data": {
      "text/plain": [
       "Int64Index([2, 5, 11], dtype='int64')"
      ]
     },
     "execution_count": 45,
     "metadata": {},
     "output_type": "execute_result"
    }
   ],
   "source": [
    "# Slicing in indices\n",
    "indices[::2]"
   ]
  },
  {
   "cell_type": "code",
   "execution_count": 46,
   "id": "a8613d29",
   "metadata": {},
   "outputs": [
    {
     "name": "stdout",
     "output_type": "stream",
     "text": [
      "5 (5,) 1 int64\n"
     ]
    }
   ],
   "source": [
    "# Index objects also have many attributes familiar with NumPy arrays:\n",
    "print(indices.size, indices.shape, indices.ndim, indices.dtype)"
   ]
  },
  {
   "cell_type": "code",
   "execution_count": 47,
   "id": "a1ef2aa9",
   "metadata": {},
   "outputs": [
    {
     "ename": "TypeError",
     "evalue": "Index does not support mutable operations",
     "output_type": "error",
     "traceback": [
      "\u001b[0;31m---------------------------------------------------------------------------\u001b[0m",
      "\u001b[0;31mTypeError\u001b[0m                                 Traceback (most recent call last)",
      "Cell \u001b[0;32mIn[47], line 2\u001b[0m\n\u001b[1;32m      1\u001b[0m \u001b[38;5;66;03m# Indices are immutable they cannot be modified via the normal means\u001b[39;00m\n\u001b[0;32m----> 2\u001b[0m indices[\u001b[38;5;241m1\u001b[39m] \u001b[38;5;241m=\u001b[39m \u001b[38;5;241m0\u001b[39m\n",
      "File \u001b[0;32m~/anaconda3/lib/python3.10/site-packages/pandas/core/indexes/base.py:5302\u001b[0m, in \u001b[0;36mIndex.__setitem__\u001b[0;34m(self, key, value)\u001b[0m\n\u001b[1;32m   5300\u001b[0m \u001b[38;5;129m@final\u001b[39m\n\u001b[1;32m   5301\u001b[0m \u001b[38;5;28;01mdef\u001b[39;00m \u001b[38;5;21m__setitem__\u001b[39m(\u001b[38;5;28mself\u001b[39m, key, value):\n\u001b[0;32m-> 5302\u001b[0m     \u001b[38;5;28;01mraise\u001b[39;00m \u001b[38;5;167;01mTypeError\u001b[39;00m(\u001b[38;5;124m\"\u001b[39m\u001b[38;5;124mIndex does not support mutable operations\u001b[39m\u001b[38;5;124m\"\u001b[39m)\n",
      "\u001b[0;31mTypeError\u001b[0m: Index does not support mutable operations"
     ]
    }
   ],
   "source": [
    "# Indices are immutable they cannot be modified via the normal means\n",
    "indices[1] = 0"
   ]
  },
  {
   "cell_type": "markdown",
   "id": "b23dee42",
   "metadata": {},
   "source": [
    "<h5>Index as ordered set</h5>"
   ]
  },
  {
   "cell_type": "code",
   "execution_count": 48,
   "id": "e74b6df6",
   "metadata": {},
   "outputs": [],
   "source": [
    "# Pandas objects are designed to facilitate operations such as joins across datasets, which depend on \n",
    "# many aspects of set arithmetic\n",
    "\n",
    "# The Index object follows many of the conventions used by Python's built in data structure, so that unions,\n",
    "# intersections, differences and other combinations can be computed in a familiar way:\n",
    "indA = pd.Index([1,3,5,7,9])\n",
    "indB = pd.Index([2,3,5,7,11])"
   ]
  },
  {
   "cell_type": "code",
   "execution_count": 49,
   "id": "4d9b2dee",
   "metadata": {},
   "outputs": [
    {
     "name": "stderr",
     "output_type": "stream",
     "text": [
      "/var/folders/c8/z4lh2j2s5kq5jvv28mrv0rw40000gn/T/ipykernel_78760/122942274.py:2: FutureWarning: Index.__and__ operating as a set operation is deprecated, in the future this will be a logical operation matching Series.__and__.  Use index.intersection(other) instead.\n",
      "  indA & indB\n"
     ]
    },
    {
     "data": {
      "text/plain": [
       "Int64Index([3, 5, 7], dtype='int64')"
      ]
     },
     "execution_count": 49,
     "metadata": {},
     "output_type": "execute_result"
    }
   ],
   "source": [
    "# Intersection operation\n",
    "indA & indB"
   ]
  },
  {
   "cell_type": "code",
   "execution_count": 50,
   "id": "5ecc1cb3",
   "metadata": {},
   "outputs": [
    {
     "data": {
      "text/plain": [
       "Int64Index([3, 5, 7], dtype='int64')"
      ]
     },
     "execution_count": 50,
     "metadata": {},
     "output_type": "execute_result"
    }
   ],
   "source": [
    "# Intersection Operation with .intersection method\n",
    "indA.intersection(indB)"
   ]
  },
  {
   "cell_type": "code",
   "execution_count": 51,
   "id": "d6e27dab",
   "metadata": {},
   "outputs": [
    {
     "name": "stderr",
     "output_type": "stream",
     "text": [
      "/var/folders/c8/z4lh2j2s5kq5jvv28mrv0rw40000gn/T/ipykernel_78760/649389361.py:2: FutureWarning: Index.__or__ operating as a set operation is deprecated, in the future this will be a logical operation matching Series.__or__.  Use index.union(other) instead.\n",
      "  indA | indB\n"
     ]
    },
    {
     "data": {
      "text/plain": [
       "Int64Index([1, 2, 3, 5, 7, 9, 11], dtype='int64')"
      ]
     },
     "execution_count": 51,
     "metadata": {},
     "output_type": "execute_result"
    }
   ],
   "source": [
    "# Union Operation\n",
    "indA | indB"
   ]
  },
  {
   "cell_type": "code",
   "execution_count": 52,
   "id": "e68b00e3",
   "metadata": {},
   "outputs": [
    {
     "data": {
      "text/plain": [
       "Int64Index([1, 2, 3, 5, 7, 9, 11], dtype='int64')"
      ]
     },
     "execution_count": 52,
     "metadata": {},
     "output_type": "execute_result"
    }
   ],
   "source": [
    "# Union operation with .union method\n",
    "indA.union(indB)"
   ]
  },
  {
   "cell_type": "code",
   "execution_count": 53,
   "id": "c17854c5",
   "metadata": {},
   "outputs": [
    {
     "name": "stderr",
     "output_type": "stream",
     "text": [
      "/var/folders/c8/z4lh2j2s5kq5jvv28mrv0rw40000gn/T/ipykernel_78760/503525079.py:2: FutureWarning: Index.__xor__ operating as a set operation is deprecated, in the future this will be a logical operation matching Series.__xor__.  Use index.symmetric_difference(other) instead.\n",
      "  indA ^ indB\n"
     ]
    },
    {
     "data": {
      "text/plain": [
       "Int64Index([1, 2, 9, 11], dtype='int64')"
      ]
     },
     "execution_count": 53,
     "metadata": {},
     "output_type": "execute_result"
    }
   ],
   "source": [
    "# Symmetric Difference \n",
    "indA ^ indB"
   ]
  },
  {
   "cell_type": "code",
   "execution_count": 54,
   "id": "b9b8c00d",
   "metadata": {},
   "outputs": [
    {
     "data": {
      "text/plain": [
       "Int64Index([1, 2, 9, 11], dtype='int64')"
      ]
     },
     "execution_count": 54,
     "metadata": {},
     "output_type": "execute_result"
    }
   ],
   "source": [
    "# Symmetric Difference with .symmetric method\n",
    "indA.symmetric_difference(indB)"
   ]
  }
 ],
 "metadata": {
  "kernelspec": {
   "display_name": "Python 3 (ipykernel)",
   "language": "python",
   "name": "python3"
  },
  "language_info": {
   "codemirror_mode": {
    "name": "ipython",
    "version": 3
   },
   "file_extension": ".py",
   "mimetype": "text/x-python",
   "name": "python",
   "nbconvert_exporter": "python",
   "pygments_lexer": "ipython3",
   "version": "3.10.9"
  }
 },
 "nbformat": 4,
 "nbformat_minor": 5
}
